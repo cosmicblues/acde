{
 "cells": [
  {
   "cell_type": "markdown",
   "id": "suspected-marina",
   "metadata": {},
   "source": [
    "**Imports**"
   ]
  },
  {
   "cell_type": "code",
   "execution_count": 2,
   "id": "royal-baseball",
   "metadata": {},
   "outputs": [],
   "source": [
    "import os\n",
    "import psycopg2"
   ]
  },
  {
   "cell_type": "code",
   "execution_count": 5,
   "id": "overhead-doctor",
   "metadata": {},
   "outputs": [
    {
     "name": "stdout",
     "output_type": "stream",
     "text": [
      "Th302k18\n"
     ]
    }
   ],
   "source": [
    "mot_passe = os.environ.get('pg_psw')\n",
    "\n",
    "print(mot_passe)"
   ]
  },
  {
   "cell_type": "markdown",
   "id": "active-faith",
   "metadata": {},
   "source": [
    "**Connection + création DB**"
   ]
  },
  {
   "cell_type": "code",
   "execution_count": 7,
   "id": "supposed-contractor",
   "metadata": {},
   "outputs": [
    {
     "name": "stdout",
     "output_type": "stream",
     "text": [
      "Base de données créée avec succès !\n"
     ]
    }
   ],
   "source": [
    "conn = psycopg2.connect(\n",
    "   database=\"postgres\", user='postgres', password=mot_passe, host='localhost', port= '5432'\n",
    ")\n",
    "conn.autocommit = True\n",
    "\n",
    "cursor = conn.cursor()\n",
    "\n",
    "sql = '''CREATE database acde_manager''';\n",
    "\n",
    "cursor.execute(sql)\n",
    "print(\"Base de données créée avec succès !\")\n",
    "\n",
    "conn.close()"
   ]
  },
  {
   "cell_type": "markdown",
   "id": "further-reunion",
   "metadata": {},
   "source": [
    "**Fonctions génériques**"
   ]
  },
  {
   "cell_type": "code",
   "execution_count": 11,
   "id": "uniform-lightweight",
   "metadata": {},
   "outputs": [],
   "source": [
    "def ouvrir_connection(nom_bdd, utilisateur, mot_passe, host='localhost', port=5432):\n",
    "    try:\n",
    "        conn = psycopg2.connect(dbname=nom_bdd, user=utilisateur, password=mot_passe, host=host, port=5432)\n",
    "    except psycopg2.Error as e:\n",
    "        print(\"Erreur lors de la connection à la base de données\")\n",
    "        print(e)\n",
    "        return None\n",
    "    # On force autocommit (non applicable ds SQLite3)\n",
    "    conn.set_session(autocommit=True)\n",
    "    return conn\n",
    "\n",
    "\n",
    "def supprimer_table(conn, sql_suppression_table):\n",
    "    try:\n",
    "        cursor = conn.cursor()\n",
    "        cursor.execute(sql_suppression_table)\n",
    "        conn.commit()\n",
    "    except psycopg2.Error as e:\n",
    "        print(\"Erreur lors de la suppression de la table\")\n",
    "        print(e)\n",
    "        return\n",
    "    cursor.close()\n",
    "    print(\"La table a été supprimée avec succès\")\n",
    "\n",
    "    \n",
    "def creer_table(conn, sql_creation_table):\n",
    "    try:\n",
    "        cursor = conn.cursor()\n",
    "        cursor.execute(sql_creation_table)\n",
    "        conn.commit()\n",
    "    except psycopg2.Error as e:\n",
    "        print(\"Erreur lors de la création de la table\")\n",
    "        print(e)\n",
    "        return\n",
    "    cursor.close()\n",
    "    print(\"La table a été crée avec succès\")\n",
    "\n",
    "    \n",
    "def inserer_donnees(conn, sql_insertion_table):\n",
    "    try:\n",
    "        cursor = conn.cursor()\n",
    "        cursor.execute(sql_insertion_table)\n",
    "        conn.commit()\n",
    "    except psycopg2.Error as e:\n",
    "        print(\"Erreur lors de l'insertion des données\")\n",
    "        print(e)\n",
    "        return\n",
    "    cursor.close()\n",
    "    print(\"Les données ont été insérées avec succès\")\n",
    "\n",
    "    \n",
    "def lire_donnees(conn, sql_requete):\n",
    "    try:\n",
    "        cursor = conn.cursor()\n",
    "        cursor.execute(sql_requete)\n",
    "        conn.commit()\n",
    "    except psycopg2.Error as e:\n",
    "        print(\"Erreur lors de la lecture des données\")\n",
    "        print(e)\n",
    "        return None\n",
    "    \n",
    "    print(\"Les données ont été lues avec succès\")\n",
    "    data = []\n",
    "    for row in cursor:\n",
    "        data.append(row)\n",
    "\n",
    "    cursor.close()\n",
    "    \n",
    "    return data"
   ]
  },
  {
   "cell_type": "markdown",
   "id": "awful-neutral",
   "metadata": {},
   "source": [
    "**Requêtes SQL pour la table manager**"
   ]
  },
  {
   "cell_type": "code",
   "execution_count": 37,
   "id": "center-spencer",
   "metadata": {},
   "outputs": [],
   "source": [
    "sql_supprimer_table_manager = \"\"\"\n",
    "    DROP TABLE IF EXISTS ;\n",
    "\"\"\"\n",
    "\n",
    "sql_creer_table_manager = \"\"\"\n",
    "    CREATE TABLE IF NOT EXISTS manager (\n",
    "    id integer primary key,\n",
    "    equipe_id integer,\n",
    "    type text,\n",
    "    firstname text,\n",
    "    lastname text,\n",
    "    email text,\n",
    "    identifiant text,\n",
    "    password text,\n",
    "    admin_client integer,\n",
    "    admin_dev integer,\n",
    "    visiteur integer\n",
    "    );\n",
    "\"\"\"\n",
    "\n",
    "sql_inserer_manager = \"\"\"\n",
    "    INSERT INTO manager \n",
    "    (id, equipe_id, type, firstname, lastname, email, identifiant,\n",
    "    password, admin_client, admin_dev, visiteur)\n",
    "    VALUES (%s, %s, %s, %s, %s, %s, %s, %s, %s, %s, %s);\n",
    "\"\"\"\n",
    "\n",
    "sql_inserer_manager = \"\"\"\n",
    "    COPY manager \n",
    "    (id, equipe_id, type, firstname, lastname, email, identifiant,\n",
    "    password, admin_client, admin_dev, visiteur)\n",
    "    FROM 'C:\\\\Users\\\\Public\\\\Documents\\\\acde_manager.csv'\n",
    "    WITH CSV DELIMITER ','\n",
    "    QUOTE '\"'\n",
    "    HEADER;\n",
    "\"\"\"\n",
    "\n",
    "sql_inserer_manager_dict = \"\"\"\n",
    "    INSERT INTO manager \n",
    "    (id, equipe_id, type, firstname, lastname, email, identifiant,\n",
    "    password, admin_client, admin_dev, visiteur)\n",
    "    VALUES (%(id)s, %(equipe_id)s, %(type)s, %(firstname)s, %(lastname)s, %(email)s, %(identifiant)s,\n",
    "    %(password)s, %(admin_client)s, %(admin_dev)s, %(visiteur)s);\n",
    "\"\"\"\n",
    "\n",
    "sql_lire_manager = \"\"\"\n",
    "    SELECT *\n",
    "    FROM manager;\n",
    "\"\"\""
   ]
  },
  {
   "cell_type": "markdown",
   "id": "verified-camcorder",
   "metadata": {},
   "source": [
    "**parametres bdd**"
   ]
  },
  {
   "cell_type": "code",
   "execution_count": 28,
   "id": "unlimited-decline",
   "metadata": {},
   "outputs": [],
   "source": [
    "ma_base_donnees = \"acde_manager\"\n",
    "utilisateur = \"postgres\"\n",
    "mot_passe = os.environ.get('pg_psw')"
   ]
  },
  {
   "cell_type": "markdown",
   "id": "suspended-corporation",
   "metadata": {},
   "source": [
    "**Connect BDD**"
   ]
  },
  {
   "cell_type": "code",
   "execution_count": 29,
   "id": "parallel-pressure",
   "metadata": {},
   "outputs": [
    {
     "data": {
      "text/plain": [
       "psycopg2.extensions.connection"
      ]
     },
     "execution_count": 29,
     "metadata": {},
     "output_type": "execute_result"
    }
   ],
   "source": [
    "conn = ouvrir_connection(ma_base_donnees, utilisateur, mot_passe)\n",
    "\n",
    "type(conn)"
   ]
  },
  {
   "cell_type": "markdown",
   "id": "capable-johns",
   "metadata": {},
   "source": [
    "**Create tables**"
   ]
  },
  {
   "cell_type": "code",
   "execution_count": 30,
   "id": "swedish-detector",
   "metadata": {
    "tags": []
   },
   "outputs": [
    {
     "name": "stdout",
     "output_type": "stream",
     "text": [
      "La table a été crée avec succès\n"
     ]
    }
   ],
   "source": [
    "creer_table(conn, sql_creer_table_manager)"
   ]
  },
  {
   "cell_type": "markdown",
   "id": "excessive-portrait",
   "metadata": {},
   "source": [
    "**import CSV**"
   ]
  },
  {
   "cell_type": "code",
   "execution_count": 42,
   "id": "tamil-latter",
   "metadata": {},
   "outputs": [
    {
     "name": "stdout",
     "output_type": "stream",
     "text": [
      "Erreur lors de l'insertion des données\n",
      "ERREUR:  séquence d'octets invalide pour l'encodage « UTF8 » : 0xe9 0x6e 0x6f\n",
      "CONTEXT:  COPY manager, ligne 2\n",
      "\n"
     ]
    }
   ],
   "source": [
    "inserer_donnees(conn, sql_inserer_manager)"
   ]
  },
  {
   "cell_type": "markdown",
   "id": "dated-journal",
   "metadata": {},
   "source": [
    "**Lecture data**"
   ]
  },
  {
   "cell_type": "code",
   "execution_count": 41,
   "id": "narrative-causing",
   "metadata": {},
   "outputs": [
    {
     "name": "stdout",
     "output_type": "stream",
     "text": [
      "Les données ont été lues avec succès\n"
     ]
    },
    {
     "data": {
      "text/plain": [
       "[]"
      ]
     },
     "execution_count": 41,
     "metadata": {},
     "output_type": "execute_result"
    }
   ],
   "source": [
    "lire_donnees(conn, sql_lire_manager)"
   ]
  },
  {
   "cell_type": "markdown",
   "id": "derived-trial",
   "metadata": {},
   "source": [
    "**Delete tables**"
   ]
  },
  {
   "cell_type": "code",
   "execution_count": null,
   "id": "classified-growth",
   "metadata": {},
   "outputs": [],
   "source": [
    "supprimer_table(conn, sql_supprimer_table_manager)"
   ]
  }
 ],
 "metadata": {
  "kernelspec": {
   "display_name": "Python 3",
   "language": "python",
   "name": "python3"
  },
  "language_info": {
   "codemirror_mode": {
    "name": "ipython",
    "version": 3
   },
   "file_extension": ".py",
   "mimetype": "text/x-python",
   "name": "python",
   "nbconvert_exporter": "python",
   "pygments_lexer": "ipython3",
   "version": "3.9.1"
  }
 },
 "nbformat": 4,
 "nbformat_minor": 5
}
