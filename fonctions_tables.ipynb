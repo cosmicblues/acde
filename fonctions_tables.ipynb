{
 "cells": [
  {
   "cell_type": "markdown",
   "id": "final-olympus",
   "metadata": {},
   "source": [
    "**Imports**"
   ]
  },
  {
   "cell_type": "code",
   "execution_count": null,
   "id": "aerial-professor",
   "metadata": {},
   "outputs": [],
   "source": [
    "import os\n",
    "import psycopg2\n",
    "import matplotlib.pyplot as plt"
   ]
  },
  {
   "cell_type": "code",
   "execution_count": null,
   "id": "driving-festival",
   "metadata": {},
   "outputs": [],
   "source": [
    "mot_passe = os.environ.get('pg_psw')"
   ]
  },
  {
   "cell_type": "markdown",
   "id": "agricultural-timber",
   "metadata": {},
   "source": [
    "**Connection + création DB**"
   ]
  },
  {
   "cell_type": "code",
   "execution_count": null,
   "id": "atlantic-stack",
   "metadata": {},
   "outputs": [],
   "source": [
    "conn = psycopg2.connect(\n",
    "   database=\"postgres\", user='postgres', password=mot_passe, host='localhost', port= '5432'\n",
    ")\n",
    "conn.autocommit = True\n",
    "\n",
    "cursor = conn.cursor()\n",
    "\n",
    "sql = '''CREATE database acde_manager''';\n",
    "\n",
    "cursor.execute(sql)\n",
    "print(\"Base de données créée avec succès !\")\n",
    "\n",
    "conn.close()"
   ]
  },
  {
   "cell_type": "markdown",
   "id": "prescription-government",
   "metadata": {},
   "source": [
    "**Fonctions génériques**"
   ]
  },
  {
   "cell_type": "code",
   "execution_count": null,
   "id": "proper-mountain",
   "metadata": {},
   "outputs": [],
   "source": [
    "def ouvrir_connection(nom_bdd, utilisateur, mot_passe, host='localhost', port=5432):\n",
    "    try:\n",
    "        conn = psycopg2.connect(dbname=nom_bdd, user=utilisateur, password=mot_passe, host=host, port=5432)\n",
    "    except psycopg2.Error as e:\n",
    "        print(\"Erreur lors de la connection à la base de données\")\n",
    "        print(e)\n",
    "        return None\n",
    "    # On force autocommit (non applicable ds SQLite3)\n",
    "    conn.set_session(autocommit=True)\n",
    "    return conn\n",
    "\n",
    "\n",
    "def supprimer_table(conn, sql_suppression_table):\n",
    "    try:\n",
    "        cursor = conn.cursor()\n",
    "        cursor.execute(sql_suppression_table)\n",
    "        conn.commit()\n",
    "    except psycopg2.Error as e:\n",
    "        print(\"Erreur lors de la suppression de la table\")\n",
    "        print(e)\n",
    "        return\n",
    "    cursor.close()\n",
    "    print(\"La table a été supprimée avec succès\")\n",
    "\n",
    "    \n",
    "def creer_table(conn, sql_creation_table):\n",
    "    try:\n",
    "        cursor = conn.cursor()\n",
    "        cursor.execute(sql_creation_table)\n",
    "        conn.commit()\n",
    "    except psycopg2.Error as e:\n",
    "        print(\"Erreur lors de la création de la table\")\n",
    "        print(e)\n",
    "        return\n",
    "    cursor.close()\n",
    "    print(\"La table a été crée avec succès\")\n",
    "\n",
    "    \n",
    "def inserer_donnees(conn, sql_insertion_table):\n",
    "    try:\n",
    "        cursor = conn.cursor()\n",
    "        cursor.execute(sql_insertion_table)\n",
    "        conn.commit()\n",
    "    except psycopg2.Error as e:\n",
    "        print(\"Erreur lors de l'insertion des données\")\n",
    "        print(e)\n",
    "        return\n",
    "    cursor.close()\n",
    "    print(\"Les données ont été insérées avec succès\")\n",
    "\n",
    "    \n",
    "def lire_donnees(conn, sql_requete):\n",
    "    try:\n",
    "        cursor = conn.cursor()\n",
    "        cursor.execute(sql_requete)\n",
    "        conn.commit()\n",
    "    except psycopg2.Error as e:\n",
    "        print(\"Erreur lors de la lecture des données\")\n",
    "        print(e)\n",
    "        return None\n",
    "    \n",
    "    print(\"Les données ont été lues avec succès\")\n",
    "    data = []\n",
    "    for row in cursor:\n",
    "        data.append(row)\n",
    "\n",
    "    cursor.close()\n",
    "    \n",
    "    return data\n",
    "\n",
    "def dataviz(conn, sql_dataviz):\n",
    "        try:\n",
    "            cursor = conn.cursor()\n",
    "            cursor.execute(sql_dataviz)\n",
    "            conn.commit()\n",
    "        except psycopg2.Error as e:\n",
    "            print(\"Erreur lors de la vizualisation des données\")\n",
    "            print(e)\n",
    "            return\n",
    "        \n",
    "        \n",
    "        ids = []\n",
    "        charges = []\n",
    "        for item in cursor:\n",
    "            ids.append(item[0])\n",
    "            charges.append(item[1])\n",
    "            \n",
    "        #print(charges)\n",
    "        #print(ids)\n",
    "        values = range(len(ids))\n",
    "        print(values)\n",
    "        \n",
    "        # Create the plot\n",
    "        plt.plot(values,charges,marker=\"o\")\n",
    "        plt.xlabel(\"X-Axis\")\n",
    "        plt.ylabel(\"Y-Axis\")\n",
    "        plt.title(\"Set X labels in Matplotlib Plot\")\n",
    "        plt.xticks(values,ids)\n",
    "        plt.show()\n",
    "\n",
    "        cursor.close()\n",
    "        \n",
    "        print(\"Les données ont été vizualisées avec succès\")\n"
   ]
  },
  {
   "cell_type": "markdown",
   "id": "determined-pacific",
   "metadata": {},
   "source": [
    "**Requêtes SQL pour la table user**"
   ]
  },
  {
   "cell_type": "code",
   "execution_count": null,
   "id": "guilty-northern",
   "metadata": {},
   "outputs": [],
   "source": [
    "sql_supprimer_table_user = \"\"\"\n",
    "    DROP TABLE IF EXISTS users;\n",
    "\"\"\"\n",
    "\n",
    "sql_creer_table_user = \"\"\"\n",
    "    CREATE TABLE IF NOT EXISTS users (\n",
    "    id integer primary key,\n",
    "    nom text,\n",
    "    prenom text,\n",
    "    admin int,\n",
    "    activtity text,\n",
    "    email text, \n",
    "    password text,\n",
    "    event_id int\n",
    "    );\n",
    "\"\"\"\n",
    "\n",
    "sql_inserer_user = \"\"\"\n",
    "    INSERT INTO users \n",
    "    (id, nom, prenom, role, equipe, admin, activity,\n",
    "    email, password, event_id)\n",
    "    VALUES (%s, %s, %s, %s, %s, %s, %s, %s, %s, %s);\n",
    "\"\"\"\n",
    "\n",
    "sql_inserer_user = \"\"\"\n",
    "    COPY users\n",
    "    (id, nom, prenom, role, equipe, admin, activity,\n",
    "    email, password, event_id)\n",
    "    FROM 'C:\\\\Users\\\\Public\\\\Documents\\\\acde_users.csv'\n",
    "    WITH CSV DELIMITER ','\n",
    "    QUOTE '\"'\n",
    "    HEADER;\n",
    "\"\"\"\n",
    "\n",
    "sql_inserer_user_dict = \"\"\"\n",
    "    INSERT INTO users \n",
    "    (id, nom, prenom, role, equipe, admin, activity,\n",
    "    email, password, event_id)\n",
    "    VALUES (%(id)s, %(nom)s, %(prenom)s, %(role)s, %(equipe)s, %(admin)s, %(activity)s,\n",
    "    %(email)s, %(password)s, %(event_id)s);\n",
    "\"\"\"\n",
    "\n",
    "sql_lire_user = \"\"\"\n",
    "    SELECT *\n",
    "    FROM users;\n",
    "\"\"\""
   ]
  },
  {
   "cell_type": "markdown",
   "id": "artistic-arrival",
   "metadata": {},
   "source": [
    "**Requêtes SQL pour la table event**"
   ]
  },
  {
   "cell_type": "code",
   "execution_count": null,
   "id": "collectible-optimum",
   "metadata": {},
   "outputs": [],
   "source": [
    "sql_supprimer_table_event = \"\"\"\n",
    "    DROP TABLE IF EXISTS event;\n",
    "\"\"\"\n",
    "\n",
    "sql_creer_table_event = \"\"\"\n",
    "    CREATE TABLE IF NOT EXISTS event (\n",
    "    id integer primary key,\n",
    "    user_id integer,\n",
    "    preparation decimal,\n",
    "    duration decimal,\n",
    "    charge integer,\n",
    "    modalities text,\n",
    "    need integer,\n",
    "    participants integer,\n",
    "    frequency integer,\n",
    "    proprietaire text,\n",
    "    date_first_event date,\n",
    "    date_last_event date\n",
    "    );\n",
    "\"\"\"\n",
    "\n",
    "sql_inserer_event = \"\"\"\n",
    "    INSERT INTO event \n",
    "    (id, user_id, preparation, duration, charge, modalities, need,\n",
    "    participants, frequency, proprietaire, date_first_event, date_last_event)\n",
    "    VALUES (%s, %s, %s, %s, %s, %s, %s, %s, %s, %s, %s, %s);\n",
    "\"\"\"\n",
    "\n",
    "sql_inserer_event = \"\"\"\n",
    "    COPY event \n",
    "    (id, user_id, preparation, duration, charge, modalities, need,\n",
    "    participants, frequency, proprietaire, date_first_event, date_last_event)\n",
    "    FROM 'C:\\\\Users\\\\Public\\\\Documents\\\\acde_manager2.csv'\n",
    "    WITH CSV DELIMITER ','\n",
    "    QUOTE '\"'\n",
    "    HEADER;\n",
    "\"\"\"\n",
    "\n",
    "sql_inserer_event_dict = \"\"\"\n",
    "    INSERT INTO event \n",
    "    (id, user_id, preparation, duration, charge, modalities, need,\n",
    "    participants, frequency, proprietaire, date_first_event, date_last_event)\n",
    "    VALUES (%(id)s, %(user_id)s, %(preparation)s, %(duration)s, %(charge)s, %(modalities)s, %(need)s,\n",
    "    %(particpants)s, %(frequency)s, %(proprietaire)s, %(date_first_event)s, %(date_last_event)s);\n",
    "\"\"\"\n",
    "\n",
    "sql_lire_event = \"\"\"\n",
    "    SELECT *\n",
    "    FROM event\n",
    "    LIMIT 10;\n",
    "\"\"\"\n",
    "\n",
    "sql_dataviz_event = \"\"\"\n",
    "    SELECT id, charge\n",
    "    FROM event\n",
    "    GROUP BY id\n",
    "    LIMIT 10;\n",
    "\"\"\"\n",
    "\n",
    "sql_dataviz_event_2 = \"\"\"\n",
    "    SELECT id, charge\n",
    "    FROM event\n",
    "    GROUP BY id\n",
    "    LIMIT 10 OFFSET 10;\n",
    "\"\"\""
   ]
  },
  {
   "cell_type": "markdown",
   "id": "julian-share",
   "metadata": {},
   "source": [
    "**Requêtes SQL pour la table list_of_events**"
   ]
  },
  {
   "cell_type": "code",
   "execution_count": null,
   "id": "powerful-maria",
   "metadata": {},
   "outputs": [],
   "source": [
    "sql_supprimer_table_list_of_events = \"\"\"\n",
    "    DROP TABLE IF EXISTS list_of_event;\n",
    "\"\"\"\n",
    "\n",
    "sql_creer_table_list_of_events = \"\"\"\n",
    "    CREATE TABLE IF NOT EXISTS list_of_event (\n",
    "    id integer primary key,\n",
    "    name_of_instance integer,\n",
    "    description text,\n",
    "    event_id integer\n",
    "    );\n",
    "\"\"\"\n",
    "\n",
    "sql_inserer_list_of_events = \"\"\"\n",
    "    INSERT INTO list_of_event \n",
    "    (id, name_of_instance, description, event_id)\n",
    "    VALUES (%s, %s, %s, %s);\n",
    "\"\"\"\n",
    "\n",
    "sql_inserer_list_of_events = \"\"\"\n",
    "    COPY list_of_event \n",
    "    id, name_of_instance, description, event_id)\n",
    "    FROM 'C:\\\\Users\\\\Public\\\\Documents\\\\acde_manager.csv'\n",
    "    WITH CSV DELIMITER ','\n",
    "    QUOTE '\"'\n",
    "    HEADER;\n",
    "\"\"\"\n",
    "\n",
    "sql_inserer_list_of_events_dict = \"\"\"\n",
    "    INSERT INTO list_of_event \n",
    "    (id, name_of_instance, description, event_id)\n",
    "    VALUES (%(id)s, %(name_of_instance)s, %(desc)s, %(event_id)s);\n",
    "\"\"\"\n",
    "\n",
    "sql_lire_list_of_events = \"\"\"\n",
    "    SELECT *\n",
    "    FROM list_of_event;\n",
    "\"\"\""
   ]
  },
  {
   "cell_type": "markdown",
   "id": "dominant-gather",
   "metadata": {},
   "source": [
    "**Parametres bdd**"
   ]
  },
  {
   "cell_type": "code",
   "execution_count": null,
   "id": "heavy-roberts",
   "metadata": {},
   "outputs": [],
   "source": [
    "ma_base_donnees = \"acde_manager\"\n",
    "utilisateur = \"postgres\"\n",
    "mot_passe = os.environ.get('pg_psw')"
   ]
  },
  {
   "cell_type": "markdown",
   "id": "solved-halifax",
   "metadata": {},
   "source": [
    "**Connect BDD**"
   ]
  },
  {
   "cell_type": "code",
   "execution_count": null,
   "id": "moderate-queensland",
   "metadata": {},
   "outputs": [],
   "source": [
    "conn = ouvrir_connection(ma_base_donnees, utilisateur, mot_passe)\n",
    "\n",
    "type(conn)"
   ]
  },
  {
   "cell_type": "markdown",
   "id": "prescribed-silicon",
   "metadata": {},
   "source": [
    "**Create tables**"
   ]
  },
  {
   "cell_type": "code",
   "execution_count": null,
   "id": "assigned-grill",
   "metadata": {
    "tags": []
   },
   "outputs": [],
   "source": [
    "creer_table(conn, sql_creer_table_user)"
   ]
  },
  {
   "cell_type": "code",
   "execution_count": null,
   "id": "digital-ticket",
   "metadata": {},
   "outputs": [],
   "source": [
    "creer_table(conn, sql_creer_table_event)"
   ]
  },
  {
   "cell_type": "code",
   "execution_count": null,
   "id": "reduced-flight",
   "metadata": {},
   "outputs": [],
   "source": [
    "creer_table(conn, sql_creer_table_list_of_events)"
   ]
  },
  {
   "cell_type": "markdown",
   "id": "hairy-channels",
   "metadata": {},
   "source": [
    "**Import CSV**"
   ]
  },
  {
   "cell_type": "code",
   "execution_count": null,
   "id": "interim-surprise",
   "metadata": {},
   "outputs": [],
   "source": [
    "inserer_donnees(conn, sql_inserer_user)"
   ]
  },
  {
   "cell_type": "code",
   "execution_count": null,
   "id": "referenced-tennessee",
   "metadata": {},
   "outputs": [],
   "source": [
    "inserer_donnees(conn, sql_inserer_event)"
   ]
  },
  {
   "cell_type": "code",
   "execution_count": null,
   "id": "assisted-transsexual",
   "metadata": {},
   "outputs": [],
   "source": [
    "inserer_donnees(conn, sql_inserer_list_of_events)"
   ]
  },
  {
   "cell_type": "markdown",
   "id": "informed-scott",
   "metadata": {},
   "source": [
    "**Lecture data**"
   ]
  },
  {
   "cell_type": "code",
   "execution_count": null,
   "id": "eligible-destruction",
   "metadata": {},
   "outputs": [],
   "source": [
    "lire_donnees(conn, sql_lire_user)"
   ]
  },
  {
   "cell_type": "code",
   "execution_count": null,
   "id": "realistic-genealogy",
   "metadata": {},
   "outputs": [],
   "source": [
    "lire_donnees(conn, sql_lire_event)"
   ]
  },
  {
   "cell_type": "code",
   "execution_count": null,
   "id": "bizarre-survey",
   "metadata": {},
   "outputs": [],
   "source": [
    "lire_donnees(conn, sql_lire_list_of_events)"
   ]
  },
  {
   "cell_type": "markdown",
   "id": "signed-siemens",
   "metadata": {},
   "source": [
    "**Delete tables**"
   ]
  },
  {
   "cell_type": "code",
   "execution_count": null,
   "id": "dirty-period",
   "metadata": {},
   "outputs": [],
   "source": [
    "supprimer_table(conn, sql_supprimer_table_user)"
   ]
  },
  {
   "cell_type": "code",
   "execution_count": null,
   "id": "adopted-morris",
   "metadata": {},
   "outputs": [],
   "source": [
    "supprimer_table(conn, sql_supprimer_table_event)"
   ]
  },
  {
   "cell_type": "code",
   "execution_count": null,
   "id": "experienced-taste",
   "metadata": {},
   "outputs": [],
   "source": [
    "supprimer_table(conn, sql_supprimer_table_list_of_events)"
   ]
  },
  {
   "cell_type": "markdown",
   "id": "urban-massachusetts",
   "metadata": {},
   "source": [
    "**matplotlib dataviz event**"
   ]
  },
  {
   "cell_type": "code",
   "execution_count": null,
   "id": "beginning-testament",
   "metadata": {},
   "outputs": [],
   "source": [
    "lire_donnees(conn, sql_dataviz_event)"
   ]
  },
  {
   "cell_type": "code",
   "execution_count": null,
   "id": "following-relationship",
   "metadata": {},
   "outputs": [],
   "source": [
    "dataviz(conn, sql_dataviz_event)"
   ]
  },
  {
   "cell_type": "code",
   "execution_count": null,
   "id": "spoken-calculator",
   "metadata": {},
   "outputs": [],
   "source": [
    "dataviz(conn, sql_dataviz_event_2)"
   ]
  },
  {
   "cell_type": "code",
   "execution_count": null,
   "id": "extended-thunder",
   "metadata": {},
   "outputs": [],
   "source": []
  }
 ],
 "metadata": {
  "kernelspec": {
   "display_name": "Python 3",
   "language": "python",
   "name": "python3"
  },
  "language_info": {
   "codemirror_mode": {
    "name": "ipython",
    "version": 3
   },
   "file_extension": ".py",
   "mimetype": "text/x-python",
   "name": "python",
   "nbconvert_exporter": "python",
   "pygments_lexer": "ipython3",
   "version": "3.9.1"
  }
 },
 "nbformat": 4,
 "nbformat_minor": 5
}
