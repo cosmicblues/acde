{
 "cells": [
  {
   "cell_type": "markdown",
   "id": "continuing-cartoon",
   "metadata": {},
   "source": [
    "**Imports**"
   ]
  },
  {
   "cell_type": "code",
   "execution_count": 70,
   "id": "funny-scenario",
   "metadata": {},
   "outputs": [],
   "source": [
    "import os\n",
    "import psycopg2\n",
    "import matplotlib.pyplot as plt"
   ]
  },
  {
   "cell_type": "code",
   "execution_count": 2,
   "id": "persistent-arcade",
   "metadata": {},
   "outputs": [
    {
     "name": "stdout",
     "output_type": "stream",
     "text": [
      "Th302k18\n"
     ]
    }
   ],
   "source": [
    "mot_passe = os.environ.get('pg_psw')\n",
    "\n",
    "print(mot_passe)"
   ]
  },
  {
   "cell_type": "markdown",
   "id": "alternative-penguin",
   "metadata": {},
   "source": [
    "**Connection + création DB**"
   ]
  },
  {
   "cell_type": "code",
   "execution_count": 3,
   "id": "crude-washer",
   "metadata": {},
   "outputs": [
    {
     "ename": "DuplicateDatabase",
     "evalue": "ERREUR:  la base de données « acde_manager » existe déjà\n",
     "output_type": "error",
     "traceback": [
      "\u001b[1;31m---------------------------------------------------------------------------\u001b[0m",
      "\u001b[1;31mDuplicateDatabase\u001b[0m                         Traceback (most recent call last)",
      "\u001b[1;32m<ipython-input-3-5c76766b0fc5>\u001b[0m in \u001b[0;36m<module>\u001b[1;34m\u001b[0m\n\u001b[0;32m      8\u001b[0m \u001b[0msql\u001b[0m \u001b[1;33m=\u001b[0m \u001b[1;34m'''CREATE database acde_manager'''\u001b[0m\u001b[1;33m;\u001b[0m\u001b[1;33m\u001b[0m\u001b[1;33m\u001b[0m\u001b[0m\n\u001b[0;32m      9\u001b[0m \u001b[1;33m\u001b[0m\u001b[0m\n\u001b[1;32m---> 10\u001b[1;33m \u001b[0mcursor\u001b[0m\u001b[1;33m.\u001b[0m\u001b[0mexecute\u001b[0m\u001b[1;33m(\u001b[0m\u001b[0msql\u001b[0m\u001b[1;33m)\u001b[0m\u001b[1;33m\u001b[0m\u001b[1;33m\u001b[0m\u001b[0m\n\u001b[0m\u001b[0;32m     11\u001b[0m \u001b[0mprint\u001b[0m\u001b[1;33m(\u001b[0m\u001b[1;34m\"Base de données créée avec succès !\"\u001b[0m\u001b[1;33m)\u001b[0m\u001b[1;33m\u001b[0m\u001b[1;33m\u001b[0m\u001b[0m\n\u001b[0;32m     12\u001b[0m \u001b[1;33m\u001b[0m\u001b[0m\n",
      "\u001b[1;31mDuplicateDatabase\u001b[0m: ERREUR:  la base de données « acde_manager » existe déjà\n"
     ]
    }
   ],
   "source": [
    "conn = psycopg2.connect(\n",
    "   database=\"postgres\", user='postgres', password=mot_passe, host='localhost', port= '5432'\n",
    ")\n",
    "conn.autocommit = True\n",
    "\n",
    "cursor = conn.cursor()\n",
    "\n",
    "sql = '''CREATE database acde_manager''';\n",
    "\n",
    "cursor.execute(sql)\n",
    "print(\"Base de données créée avec succès !\")\n",
    "\n",
    "conn.close()"
   ]
  },
  {
   "cell_type": "markdown",
   "id": "corporate-label",
   "metadata": {},
   "source": [
    "**Fonctions génériques**"
   ]
  },
  {
   "cell_type": "code",
   "execution_count": 190,
   "id": "comparable-experiment",
   "metadata": {},
   "outputs": [],
   "source": [
    "def ouvrir_connection(nom_bdd, utilisateur, mot_passe, host='localhost', port=5432):\n",
    "    try:\n",
    "        conn = psycopg2.connect(dbname=nom_bdd, user=utilisateur, password=mot_passe, host=host, port=5432)\n",
    "    except psycopg2.Error as e:\n",
    "        print(\"Erreur lors de la connection à la base de données\")\n",
    "        print(e)\n",
    "        return None\n",
    "    # On force autocommit (non applicable ds SQLite3)\n",
    "    conn.set_session(autocommit=True)\n",
    "    return conn\n",
    "\n",
    "\n",
    "def supprimer_table(conn, sql_suppression_table):\n",
    "    try:\n",
    "        cursor = conn.cursor()\n",
    "        cursor.execute(sql_suppression_table)\n",
    "        conn.commit()\n",
    "    except psycopg2.Error as e:\n",
    "        print(\"Erreur lors de la suppression de la table\")\n",
    "        print(e)\n",
    "        return\n",
    "    cursor.close()\n",
    "    print(\"La table a été supprimée avec succès\")\n",
    "\n",
    "    \n",
    "def creer_table(conn, sql_creation_table):\n",
    "    try:\n",
    "        cursor = conn.cursor()\n",
    "        cursor.execute(sql_creation_table)\n",
    "        conn.commit()\n",
    "    except psycopg2.Error as e:\n",
    "        print(\"Erreur lors de la création de la table\")\n",
    "        print(e)\n",
    "        return\n",
    "    cursor.close()\n",
    "    print(\"La table a été crée avec succès\")\n",
    "\n",
    "    \n",
    "def inserer_donnees(conn, sql_insertion_table):\n",
    "    try:\n",
    "        cursor = conn.cursor()\n",
    "        cursor.execute(sql_insertion_table)\n",
    "        conn.commit()\n",
    "    except psycopg2.Error as e:\n",
    "        print(\"Erreur lors de l'insertion des données\")\n",
    "        print(e)\n",
    "        return\n",
    "    cursor.close()\n",
    "    print(\"Les données ont été insérées avec succès\")\n",
    "\n",
    "    \n",
    "def lire_donnees(conn, sql_requete):\n",
    "    try:\n",
    "        cursor = conn.cursor()\n",
    "        cursor.execute(sql_requete)\n",
    "        conn.commit()\n",
    "    except psycopg2.Error as e:\n",
    "        print(\"Erreur lors de la lecture des données\")\n",
    "        print(e)\n",
    "        return None\n",
    "    \n",
    "    print(\"Les données ont été lues avec succès\")\n",
    "    data = []\n",
    "    for row in cursor:\n",
    "        data.append(row)\n",
    "\n",
    "    cursor.close()\n",
    "    \n",
    "    return data\n",
    "\n",
    "def dataviz(conn, sql_dataviz):\n",
    "        try:\n",
    "            cursor = conn.cursor()\n",
    "            cursor.execute(sql_dataviz)\n",
    "            conn.commit()\n",
    "        except psycopg2.Error as e:\n",
    "            print(\"Erreur lors de la vizualisation des données\")\n",
    "            print(e)\n",
    "            return\n",
    "        \n",
    "        \n",
    "        ids = []\n",
    "        charges = []\n",
    "        for item in cursor:\n",
    "            ids.append(item[0])\n",
    "            charges.append(item[1])\n",
    "            \n",
    "        #print(charges)\n",
    "        #print(ids)\n",
    "        values = range(len(ids))\n",
    "        print(values)\n",
    "        \n",
    "        # Create the plot\n",
    "        plt.plot(values,charges,marker=\"o\")\n",
    "        plt.xlabel(\"X-Axis\")\n",
    "        plt.ylabel(\"Y-Axis\")\n",
    "        plt.title(\"Set X labels in Matplotlib Plot\")\n",
    "        plt.xticks(values,ids)\n",
    "        plt.show()\n",
    "\n",
    "        cursor.close()\n",
    "        \n",
    "        print(\"Les données ont été vizualisées avec succès\")\n"
   ]
  },
  {
   "cell_type": "markdown",
   "id": "outdoor-evening",
   "metadata": {},
   "source": [
    "**Requêtes SQL pour la table user**"
   ]
  },
  {
   "cell_type": "code",
   "execution_count": 28,
   "id": "plain-secretariat",
   "metadata": {},
   "outputs": [],
   "source": [
    "sql_supprimer_table_user = \"\"\"\n",
    "    DROP TABLE IF EXISTS users;\n",
    "\"\"\"\n",
    "\n",
    "sql_creer_table_user = \"\"\"\n",
    "    CREATE TABLE IF NOT EXISTS users (\n",
    "    id integer primary key,\n",
    "    nom text,\n",
    "    prenom text,\n",
    "    role text,\n",
    "    equipe text,\n",
    "    admin int,\n",
    "    activtity text,\n",
    "    email text, \n",
    "    password text,\n",
    "    event_id int\n",
    "    );\n",
    "\"\"\"\n",
    "\n",
    "sql_inserer_user = \"\"\"\n",
    "    INSERT INTO users \n",
    "    (id, nom, prenom, role, equipe, admin, activity,\n",
    "    email, password, event_id)\n",
    "    VALUES (%s, %s, %s, %s, %s, %s, %s, %s, %s, %s);\n",
    "\"\"\"\n",
    "\n",
    "sql_inserer_user = \"\"\"\n",
    "    COPY users\n",
    "    (id, nom, prenom, role, equipe, admin, activity,\n",
    "    email, password, event_id)\n",
    "    FROM 'C:\\\\Users\\\\Public\\\\Documents\\\\acde_users.csv'\n",
    "    WITH CSV DELIMITER ','\n",
    "    QUOTE '\"'\n",
    "    HEADER;\n",
    "\"\"\"\n",
    "\n",
    "sql_inserer_user_dict = \"\"\"\n",
    "    INSERT INTO users \n",
    "    (id, nom, prenom, role, equipe, admin, activity,\n",
    "    email, password, event_id)\n",
    "    VALUES (%(id)s, %(nom)s, %(prenom)s, %(role)s, %(equipe)s, %(admin)s, %(activity)s,\n",
    "    %(email)s, %(password)s, %(event_id)s);\n",
    "\"\"\"\n",
    "\n",
    "sql_lire_user = \"\"\"\n",
    "    SELECT *\n",
    "    FROM users;\n",
    "\"\"\""
   ]
  },
  {
   "cell_type": "markdown",
   "id": "regular-hanging",
   "metadata": {},
   "source": [
    "**Requêtes SQL pour la table event**"
   ]
  },
  {
   "cell_type": "code",
   "execution_count": 125,
   "id": "antique-wildlife",
   "metadata": {},
   "outputs": [],
   "source": [
    "sql_supprimer_table_event = \"\"\"\n",
    "    DROP TABLE IF EXISTS event;\n",
    "\"\"\"\n",
    "\n",
    "sql_creer_table_event = \"\"\"\n",
    "    CREATE TABLE IF NOT EXISTS event (\n",
    "    id integer primary key,\n",
    "    user_id integer,\n",
    "    preparation decimal,\n",
    "    duration decimal,\n",
    "    charge integer,\n",
    "    modalities text,\n",
    "    need integer,\n",
    "    participants integer,\n",
    "    frequency integer,\n",
    "    proprietaire text,\n",
    "    date_first_event date,\n",
    "    date_last_event date\n",
    "    );\n",
    "\"\"\"\n",
    "\n",
    "sql_inserer_event = \"\"\"\n",
    "    INSERT INTO event \n",
    "    (id, user_id, preparation, duration, charge, modalities, need,\n",
    "    participants, frequency, proprietaire, date_first_event, date_last_event)\n",
    "    VALUES (%s, %s, %s, %s, %s, %s, %s, %s, %s, %s, %s, %s);\n",
    "\"\"\"\n",
    "\n",
    "sql_inserer_event = \"\"\"\n",
    "    COPY event \n",
    "    (id, user_id, preparation, duration, charge, modalities, need,\n",
    "    participants, frequency, proprietaire, date_first_event, date_last_event)\n",
    "    FROM 'C:\\\\Users\\\\Public\\\\Documents\\\\acde_manager2.csv'\n",
    "    WITH CSV DELIMITER ','\n",
    "    QUOTE '\"'\n",
    "    HEADER;\n",
    "\"\"\"\n",
    "\n",
    "sql_inserer_event_dict = \"\"\"\n",
    "    INSERT INTO event \n",
    "    (id, user_id, preparation, duration, charge, modalities, need,\n",
    "    participants, frequency, proprietaire, date_first_event, date_last_event)\n",
    "    VALUES (%(id)s, %(user_id)s, %(preparation)s, %(duration)s, %(charge)s, %(modalities)s, %(need)s,\n",
    "    %(particpants)s, %(frequency)s, %(proprietaire)s, %(date_first_event)s, %(date_last_event)s);\n",
    "\"\"\"\n",
    "\n",
    "sql_lire_event = \"\"\"\n",
    "    SELECT *\n",
    "    FROM event\n",
    "    LIMIT 10;\n",
    "\"\"\"\n",
    "\n",
    "sql_dataviz_event = \"\"\"\n",
    "    SELECT id, charge\n",
    "    FROM event\n",
    "    GROUP BY id\n",
    "    LIMIT 10;\n",
    "\"\"\""
   ]
  },
  {
   "cell_type": "markdown",
   "id": "present-adaptation",
   "metadata": {},
   "source": [
    "**Requêtes SQL pour la table list_of_events**"
   ]
  },
  {
   "cell_type": "code",
   "execution_count": 7,
   "id": "vertical-baseball",
   "metadata": {},
   "outputs": [],
   "source": [
    "sql_supprimer_table_list_of_events = \"\"\"\n",
    "    DROP TABLE IF EXISTS list_of_event;\n",
    "\"\"\"\n",
    "\n",
    "sql_creer_table_list_of_events = \"\"\"\n",
    "    CREATE TABLE IF NOT EXISTS list_of_event (\n",
    "    id integer primary key,\n",
    "    name_of_instance integer,\n",
    "    description text,\n",
    "    event_id integer\n",
    "    );\n",
    "\"\"\"\n",
    "\n",
    "sql_inserer_list_of_events = \"\"\"\n",
    "    INSERT INTO list_of_event \n",
    "    (id, name_of_instance, description, event_id)\n",
    "    VALUES (%s, %s, %s, %s);\n",
    "\"\"\"\n",
    "\n",
    "sql_inserer_list_of_events = \"\"\"\n",
    "    COPY list_of_event \n",
    "    id, name_of_instance, description, event_id)\n",
    "    FROM 'C:\\\\Users\\\\Public\\\\Documents\\\\acde_manager.csv'\n",
    "    WITH CSV DELIMITER ','\n",
    "    QUOTE '\"'\n",
    "    HEADER;\n",
    "\"\"\"\n",
    "\n",
    "sql_inserer_list_of_events_dict = \"\"\"\n",
    "    INSERT INTO list_of_event \n",
    "    (id, name_of_instance, description, event_id)\n",
    "    VALUES (%(id)s, %(name_of_instance)s, %(desc)s, %(event_id)s);\n",
    "\"\"\"\n",
    "\n",
    "sql_lire_list_of_events = \"\"\"\n",
    "    SELECT *\n",
    "    FROM list_of_event;\n",
    "\"\"\""
   ]
  },
  {
   "cell_type": "markdown",
   "id": "modular-concentrate",
   "metadata": {},
   "source": [
    "**Requêtes SQL pour la table guest**"
   ]
  },
  {
   "cell_type": "code",
   "execution_count": 32,
   "id": "elegant-title",
   "metadata": {},
   "outputs": [],
   "source": [
    "sql_supprimer_table_guest = \"\"\"\n",
    "    DROP TABLE IF EXISTS guest;\n",
    "\"\"\"\n",
    "\n",
    "sql_creer_table_guest = \"\"\"\n",
    "    CREATE TABLE IF NOT EXISTS guest (\n",
    "    user_id integer,\n",
    "    event_id integer\n",
    "    );\n",
    "\"\"\"\n",
    "\n",
    "sql_inserer_guest = \"\"\"\n",
    "    INSERT INTO guest \n",
    "    (user_id, event_id)\n",
    "    VALUES (%s, %s);\n",
    "\"\"\"\n",
    "\n",
    "sql_inserer_guest = \"\"\"\n",
    "    COPY guest \n",
    "    (user_id, event_id)\n",
    "    FROM 'C:\\\\Users\\\\Public\\\\Documents\\\\acde_manager.csv'\n",
    "    WITH CSV DELIMITER ','\n",
    "    QUOTE '\"'\n",
    "    HEADER;\n",
    "\"\"\"\n",
    "\n",
    "sql_inserer_guest_dict = \"\"\"\n",
    "    INSERT INTO guest \n",
    "    (user_id, event_id)\n",
    "    VALUES (%(user_id)s, %(event_id)s);\n",
    "\"\"\"\n",
    "\n",
    "sql_lire_guest = \"\"\"\n",
    "    SELECT *\n",
    "    FROM guest\n",
    "    LIMIT 10;\n",
    "\"\"\""
   ]
  },
  {
   "cell_type": "markdown",
   "id": "handed-narrative",
   "metadata": {},
   "source": [
    "**Requêtes SQL pour la table rights**"
   ]
  },
  {
   "cell_type": "code",
   "execution_count": 9,
   "id": "second-honduras",
   "metadata": {},
   "outputs": [],
   "source": [
    "sql_supprimer_table_rights = \"\"\"\n",
    "    DROP TABLE IF EXISTS rights;\n",
    "\"\"\"\n",
    "\n",
    "sql_creer_table_rights = \"\"\"\n",
    "    CREATE TABLE IF NOT EXISTS rights (\n",
    "    id integer primary key,\n",
    "    role integer,\n",
    "    user_id integer\n",
    "    );\n",
    "\"\"\"\n",
    "\n",
    "sql_inserer_rights = \"\"\"\n",
    "    INSERT INTO rights \n",
    "    (id, role, user_id)\n",
    "    VALUES (%s, %s, %s);\n",
    "\"\"\"\n",
    "\n",
    "sql_inserer_rights = \"\"\"\n",
    "    COPY rights \n",
    "    (id, role, user_id)\n",
    "    FROM 'C:\\\\Users\\\\Public\\\\Documents\\\\acde_manager.csv'\n",
    "    WITH CSV DELIMITER ','\n",
    "    QUOTE '\"'\n",
    "    HEADER;\n",
    "\"\"\"\n",
    "\n",
    "sql_inserer_rights_dict = \"\"\"\n",
    "    INSERT INTO rights \n",
    "    (id, role, user_id)\n",
    "    VALUES (%(id)s, %(role)s, %(user_id)s);\n",
    "\"\"\"\n",
    "\n",
    "sql_lire_rights = \"\"\"\n",
    "    SELECT *\n",
    "    FROM rights;\n",
    "\"\"\""
   ]
  },
  {
   "cell_type": "markdown",
   "id": "rural-motor",
   "metadata": {},
   "source": [
    "**Parametres bdd**"
   ]
  },
  {
   "cell_type": "code",
   "execution_count": 10,
   "id": "driving-chocolate",
   "metadata": {},
   "outputs": [],
   "source": [
    "ma_base_donnees = \"acde_manager\"\n",
    "utilisateur = \"postgres\"\n",
    "mot_passe = os.environ.get('pg_psw')"
   ]
  },
  {
   "cell_type": "markdown",
   "id": "accepting-cameroon",
   "metadata": {},
   "source": [
    "**Connect BDD**"
   ]
  },
  {
   "cell_type": "code",
   "execution_count": 11,
   "id": "horizontal-possession",
   "metadata": {},
   "outputs": [
    {
     "data": {
      "text/plain": [
       "psycopg2.extensions.connection"
      ]
     },
     "execution_count": 11,
     "metadata": {},
     "output_type": "execute_result"
    }
   ],
   "source": [
    "conn = ouvrir_connection(ma_base_donnees, utilisateur, mot_passe)\n",
    "\n",
    "type(conn)"
   ]
  },
  {
   "cell_type": "markdown",
   "id": "frank-taylor",
   "metadata": {},
   "source": [
    "**Create tables**"
   ]
  },
  {
   "cell_type": "code",
   "execution_count": 27,
   "id": "buried-testament",
   "metadata": {
    "tags": []
   },
   "outputs": [
    {
     "name": "stdout",
     "output_type": "stream",
     "text": [
      "La table a été crée avec succès\n"
     ]
    }
   ],
   "source": [
    "creer_table(conn, sql_creer_table_user)"
   ]
  },
  {
   "cell_type": "code",
   "execution_count": 160,
   "id": "natural-quarterly",
   "metadata": {},
   "outputs": [
    {
     "name": "stdout",
     "output_type": "stream",
     "text": [
      "La table a été crée avec succès\n"
     ]
    }
   ],
   "source": [
    "creer_table(conn, sql_creer_table_event)"
   ]
  },
  {
   "cell_type": "code",
   "execution_count": 27,
   "id": "negative-webcam",
   "metadata": {},
   "outputs": [
    {
     "name": "stdout",
     "output_type": "stream",
     "text": [
      "La table a été crée avec succès\n"
     ]
    }
   ],
   "source": [
    "creer_table(conn, sql_creer_table_list_of_events)"
   ]
  },
  {
   "cell_type": "code",
   "execution_count": 28,
   "id": "appreciated-leonard",
   "metadata": {},
   "outputs": [
    {
     "name": "stdout",
     "output_type": "stream",
     "text": [
      "La table a été crée avec succès\n"
     ]
    }
   ],
   "source": [
    "creer_table(conn, sql_creer_table_guest)"
   ]
  },
  {
   "cell_type": "code",
   "execution_count": 29,
   "id": "generic-registrar",
   "metadata": {},
   "outputs": [
    {
     "name": "stdout",
     "output_type": "stream",
     "text": [
      "La table a été crée avec succès\n"
     ]
    }
   ],
   "source": [
    "creer_table(conn, sql_creer_table_rights)"
   ]
  },
  {
   "cell_type": "markdown",
   "id": "beginning-monroe",
   "metadata": {},
   "source": [
    "**Import CSV**"
   ]
  },
  {
   "cell_type": "code",
   "execution_count": 29,
   "id": "opposed-location",
   "metadata": {},
   "outputs": [
    {
     "name": "stdout",
     "output_type": "stream",
     "text": [
      "Erreur lors de l'insertion des données\n",
      "ERREUR:  la colonne « activity » de la relation « users » n'existe pas\n",
      "\n"
     ]
    }
   ],
   "source": [
    "inserer_donnees(conn, sql_inserer_user)"
   ]
  },
  {
   "cell_type": "code",
   "execution_count": 172,
   "id": "young-citizenship",
   "metadata": {},
   "outputs": [
    {
     "name": "stdout",
     "output_type": "stream",
     "text": [
      "Les données ont été insérées avec succès\n"
     ]
    }
   ],
   "source": [
    "inserer_donnees(conn, sql_inserer_event)"
   ]
  },
  {
   "cell_type": "code",
   "execution_count": 163,
   "id": "touched-remove",
   "metadata": {},
   "outputs": [
    {
     "name": "stdout",
     "output_type": "stream",
     "text": [
      "Erreur lors de l'insertion des données\n",
      "ERREUR:  erreur de syntaxe sur ou près de « id »\n",
      "LINE 3:     id, name_of_instance, description, event_id)\n",
      "            ^\n",
      "\n"
     ]
    }
   ],
   "source": [
    "inserer_donnees(conn, sql_inserer_list_of_events)"
   ]
  },
  {
   "cell_type": "code",
   "execution_count": null,
   "id": "emerging-silence",
   "metadata": {},
   "outputs": [],
   "source": [
    "inserer_donnees(conn, sql_inserer_guest)"
   ]
  },
  {
   "cell_type": "code",
   "execution_count": null,
   "id": "extended-project",
   "metadata": {},
   "outputs": [],
   "source": [
    "inserer_donnees(conn, sql_inserer_rights)"
   ]
  },
  {
   "cell_type": "markdown",
   "id": "cubic-married",
   "metadata": {},
   "source": [
    "**Lecture data**"
   ]
  },
  {
   "cell_type": "code",
   "execution_count": 30,
   "id": "numerous-eating",
   "metadata": {},
   "outputs": [
    {
     "name": "stdout",
     "output_type": "stream",
     "text": [
      "Les données ont été lues avec succès\n"
     ]
    },
    {
     "data": {
      "text/plain": [
       "[]"
      ]
     },
     "execution_count": 30,
     "metadata": {},
     "output_type": "execute_result"
    }
   ],
   "source": [
    "lire_donnees(conn, sql_lire_user)"
   ]
  },
  {
   "cell_type": "code",
   "execution_count": 173,
   "id": "floppy-dimension",
   "metadata": {},
   "outputs": [
    {
     "name": "stdout",
     "output_type": "stream",
     "text": [
      "Les données ont été lues avec succès\n"
     ]
    },
    {
     "data": {
      "text/plain": [
       "[(1,\n",
       "  1,\n",
       "  Decimal('7'),\n",
       "  Decimal('9'),\n",
       "  13,\n",
       "  'SP',\n",
       "  1,\n",
       "  4,\n",
       "  1,\n",
       "  'Gr',\n",
       "  datetime.date(2019, 10, 28),\n",
       "  datetime.date(1902, 1, 14)),\n",
       " (2,\n",
       "  2,\n",
       "  Decimal('7'),\n",
       "  Decimal('3'),\n",
       "  10,\n",
       "  'Pp',\n",
       "  2,\n",
       "  8,\n",
       "  7,\n",
       "  'Ne',\n",
       "  datetime.date(1955, 3, 3),\n",
       "  datetime.date(1966, 4, 19)),\n",
       " (3,\n",
       "  3,\n",
       "  Decimal('3'),\n",
       "  Decimal('4'),\n",
       "  1,\n",
       "  'Zl',\n",
       "  1,\n",
       "  8,\n",
       "  7,\n",
       "  'cK',\n",
       "  datetime.date(2019, 7, 31),\n",
       "  datetime.date(2015, 12, 9)),\n",
       " (4,\n",
       "  4,\n",
       "  Decimal('6'),\n",
       "  Decimal('4'),\n",
       "  24,\n",
       "  'qp',\n",
       "  1,\n",
       "  4,\n",
       "  6,\n",
       "  'cM',\n",
       "  datetime.date(1961, 8, 31),\n",
       "  datetime.date(1998, 1, 2)),\n",
       " (5,\n",
       "  5,\n",
       "  Decimal('10'),\n",
       "  Decimal('6'),\n",
       "  17,\n",
       "  'No',\n",
       "  2,\n",
       "  6,\n",
       "  5,\n",
       "  ' S',\n",
       "  datetime.date(1999, 7, 18),\n",
       "  datetime.date(1990, 10, 26)),\n",
       " (6,\n",
       "  6,\n",
       "  Decimal('6'),\n",
       "  Decimal('1'),\n",
       "  21,\n",
       "  'SS',\n",
       "  2,\n",
       "  2,\n",
       "  7,\n",
       "  'vV',\n",
       "  datetime.date(1943, 12, 7),\n",
       "  datetime.date(2005, 5, 22)),\n",
       " (7,\n",
       "  7,\n",
       "  Decimal('7'),\n",
       "  Decimal('8'),\n",
       "  17,\n",
       "  'BR',\n",
       "  2,\n",
       "  6,\n",
       "  2,\n",
       "  'yc',\n",
       "  datetime.date(1936, 11, 16),\n",
       "  datetime.date(1990, 3, 8)),\n",
       " (8,\n",
       "  8,\n",
       "  Decimal('7'),\n",
       "  Decimal('3'),\n",
       "  21,\n",
       "  'vG',\n",
       "  2,\n",
       "  8,\n",
       "  6,\n",
       "  'VG',\n",
       "  datetime.date(1934, 5, 19),\n",
       "  datetime.date(1914, 3, 28)),\n",
       " (9,\n",
       "  9,\n",
       "  Decimal('5'),\n",
       "  Decimal('3'),\n",
       "  8,\n",
       "  'sL',\n",
       "  2,\n",
       "  5,\n",
       "  8,\n",
       "  'Ak',\n",
       "  datetime.date(1994, 1, 7),\n",
       "  datetime.date(1922, 1, 5)),\n",
       " (10,\n",
       "  10,\n",
       "  Decimal('3'),\n",
       "  Decimal('2'),\n",
       "  23,\n",
       "  'DT',\n",
       "  1,\n",
       "  8,\n",
       "  9,\n",
       "  'ik',\n",
       "  datetime.date(1941, 6, 16),\n",
       "  datetime.date(1937, 11, 24))]"
      ]
     },
     "execution_count": 173,
     "metadata": {},
     "output_type": "execute_result"
    }
   ],
   "source": [
    "lire_donnees(conn, sql_lire_event)"
   ]
  },
  {
   "cell_type": "code",
   "execution_count": null,
   "id": "skilled-helen",
   "metadata": {},
   "outputs": [],
   "source": [
    "lire_donnees(conn, sql_lire_list_of_events)"
   ]
  },
  {
   "cell_type": "code",
   "execution_count": null,
   "id": "composite-remains",
   "metadata": {},
   "outputs": [],
   "source": [
    "lire_donnees(conn, sql_lire_guest)"
   ]
  },
  {
   "cell_type": "code",
   "execution_count": null,
   "id": "organized-automation",
   "metadata": {},
   "outputs": [],
   "source": [
    "lire_donnees(conn, sql_lire_rights)"
   ]
  },
  {
   "cell_type": "code",
   "execution_count": null,
   "id": "provincial-treasure",
   "metadata": {},
   "outputs": [],
   "source": []
  },
  {
   "cell_type": "markdown",
   "id": "cultural-puzzle",
   "metadata": {},
   "source": [
    "**Delete tables**"
   ]
  },
  {
   "cell_type": "code",
   "execution_count": 21,
   "id": "essential-trader",
   "metadata": {},
   "outputs": [
    {
     "name": "stdout",
     "output_type": "stream",
     "text": [
      "La table a été supprimée avec succès\n"
     ]
    }
   ],
   "source": [
    "supprimer_table(conn, sql_supprimer_table_user)"
   ]
  },
  {
   "cell_type": "code",
   "execution_count": 159,
   "id": "danish-victory",
   "metadata": {},
   "outputs": [
    {
     "name": "stdout",
     "output_type": "stream",
     "text": [
      "La table a été supprimée avec succès\n"
     ]
    }
   ],
   "source": [
    "supprimer_table(conn, sql_supprimer_table_event)"
   ]
  },
  {
   "cell_type": "code",
   "execution_count": null,
   "id": "scientific-customs",
   "metadata": {},
   "outputs": [],
   "source": [
    "supprimer_table(conn, sql_supprimer_table_list_of_events)"
   ]
  },
  {
   "cell_type": "code",
   "execution_count": null,
   "id": "bizarre-syndrome",
   "metadata": {},
   "outputs": [],
   "source": [
    "supprimer_table(conn, sql_supprimer_table_guest)"
   ]
  },
  {
   "cell_type": "code",
   "execution_count": null,
   "id": "interstate-parliament",
   "metadata": {},
   "outputs": [],
   "source": [
    "supprimer_table(conn, sql_supprimer_table_rights)"
   ]
  },
  {
   "cell_type": "markdown",
   "id": "moved-lafayette",
   "metadata": {},
   "source": [
    "**matplotlib dataviz event**"
   ]
  },
  {
   "cell_type": "code",
   "execution_count": 179,
   "id": "interracial-jersey",
   "metadata": {},
   "outputs": [
    {
     "name": "stdout",
     "output_type": "stream",
     "text": [
      "Les données ont été lues avec succès\n"
     ]
    },
    {
     "data": {
      "text/plain": [
       "[(1, 13),\n",
       " (2, 10),\n",
       " (3, 1),\n",
       " (4, 24),\n",
       " (5, 17),\n",
       " (6, 21),\n",
       " (7, 17),\n",
       " (8, 21),\n",
       " (9, 8),\n",
       " (10, 23)]"
      ]
     },
     "execution_count": 179,
     "metadata": {},
     "output_type": "execute_result"
    }
   ],
   "source": [
    "lire_donnees(conn, sql_dataviz_event)"
   ]
  },
  {
   "cell_type": "code",
   "execution_count": 191,
   "id": "polish-investigator",
   "metadata": {},
   "outputs": [
    {
     "name": "stdout",
     "output_type": "stream",
     "text": [
      "range(0, 10)\n"
     ]
    },
    {
     "data": {
      "image/png": "[encoded data removed]",
      "text/plain": [
       "<Figure size 432x288 with 1 Axes>"
      ]
     },
     "metadata": {
      "needs_background": "light"
     },
     "output_type": "display_data"
    },
    {
     "name": "stdout",
     "output_type": "stream",
     "text": [
      "Les données ont été vizualisées avec succès\n"
     ]
    }
   ],
   "source": [
    "dataviz(conn, sql_dataviz_event)"
   ]
  },
  {
   "cell_type": "code",
   "execution_count": 74,
   "id": "ordered-vector",
   "metadata": {},
   "outputs": [],
   "source": []
  },
  {
   "cell_type": "code",
   "execution_count": null,
   "id": "activated-devil",
   "metadata": {},
   "outputs": [],
   "source": []
  }
 ],
 "metadata": {
  "kernelspec": {
   "display_name": "Python 3",
   "language": "python",
   "name": "python3"
  },
  "language_info": {
   "codemirror_mode": {
    "name": "ipython",
    "version": 3
   },
   "file_extension": ".py",
   "mimetype": "text/x-python",
   "name": "python",
   "nbconvert_exporter": "python",
   "pygments_lexer": "ipython3",
   "version": "3.9.1"
  }
 },
 "nbformat": 4,
 "nbformat_minor": 5
}
