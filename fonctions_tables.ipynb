{
 "cells": [
  {
   "cell_type": "markdown",
   "id": "affiliated-consumption",
   "metadata": {},
   "source": [
    "**Imports**"
   ]
  },
  {
   "cell_type": "code",
   "execution_count": 1,
   "id": "supreme-mirror",
   "metadata": {},
   "outputs": [],
   "source": [
    "import os\n",
    "import psycopg2\n",
    "import matplotlib.pyplot as plt"
   ]
  },
  {
   "cell_type": "code",
   "execution_count": 2,
   "id": "final-envelope",
   "metadata": {},
   "outputs": [
    {
     "name": "stdout",
     "output_type": "stream",
     "text": [
      "Th302k18\n"
     ]
    }
   ],
   "source": [
    "mot_passe = os.environ.get('pg_psw')\n",
    "\n",
    "print(mot_passe)"
   ]
  },
  {
   "cell_type": "markdown",
   "id": "dominant-stuart",
   "metadata": {},
   "source": [
    "**Connection + création DB**"
   ]
  },
  {
   "cell_type": "code",
   "execution_count": 3,
   "id": "known-broadcasting",
   "metadata": {},
   "outputs": [
    {
     "ename": "DuplicateDatabase",
     "evalue": "ERREUR:  la base de données « acde_manager » existe déjà\n",
     "output_type": "error",
     "traceback": [
      "\u001b[1;31m---------------------------------------------------------------------------\u001b[0m",
      "\u001b[1;31mDuplicateDatabase\u001b[0m                         Traceback (most recent call last)",
      "\u001b[1;32m<ipython-input-3-5c76766b0fc5>\u001b[0m in \u001b[0;36m<module>\u001b[1;34m\u001b[0m\n\u001b[0;32m      8\u001b[0m \u001b[0msql\u001b[0m \u001b[1;33m=\u001b[0m \u001b[1;34m'''CREATE database acde_manager'''\u001b[0m\u001b[1;33m;\u001b[0m\u001b[1;33m\u001b[0m\u001b[1;33m\u001b[0m\u001b[0m\n\u001b[0;32m      9\u001b[0m \u001b[1;33m\u001b[0m\u001b[0m\n\u001b[1;32m---> 10\u001b[1;33m \u001b[0mcursor\u001b[0m\u001b[1;33m.\u001b[0m\u001b[0mexecute\u001b[0m\u001b[1;33m(\u001b[0m\u001b[0msql\u001b[0m\u001b[1;33m)\u001b[0m\u001b[1;33m\u001b[0m\u001b[1;33m\u001b[0m\u001b[0m\n\u001b[0m\u001b[0;32m     11\u001b[0m \u001b[0mprint\u001b[0m\u001b[1;33m(\u001b[0m\u001b[1;34m\"Base de données créée avec succès !\"\u001b[0m\u001b[1;33m)\u001b[0m\u001b[1;33m\u001b[0m\u001b[1;33m\u001b[0m\u001b[0m\n\u001b[0;32m     12\u001b[0m \u001b[1;33m\u001b[0m\u001b[0m\n",
      "\u001b[1;31mDuplicateDatabase\u001b[0m: ERREUR:  la base de données « acde_manager » existe déjà\n"
     ]
    }
   ],
   "source": [
    "conn = psycopg2.connect(\n",
    "   database=\"postgres\", user='postgres', password=mot_passe, host='localhost', port= '5432'\n",
    ")\n",
    "conn.autocommit = True\n",
    "\n",
    "cursor = conn.cursor()\n",
    "\n",
    "sql = '''CREATE database acde_manager''';\n",
    "\n",
    "cursor.execute(sql)\n",
    "print(\"Base de données créée avec succès !\")\n",
    "\n",
    "conn.close()"
   ]
  },
  {
   "cell_type": "markdown",
   "id": "worth-voice",
   "metadata": {},
   "source": [
    "**Fonctions génériques**"
   ]
  },
  {
   "cell_type": "code",
   "execution_count": 4,
   "id": "played-wiring",
   "metadata": {},
   "outputs": [],
   "source": [
    "def ouvrir_connection(nom_bdd, utilisateur, mot_passe, host='localhost', port=5432):\n",
    "    try:\n",
    "        conn = psycopg2.connect(dbname=nom_bdd, user=utilisateur, password=mot_passe, host=host, port=5432)\n",
    "    except psycopg2.Error as e:\n",
    "        print(\"Erreur lors de la connection à la base de données\")\n",
    "        print(e)\n",
    "        return None\n",
    "    # On force autocommit (non applicable ds SQLite3)\n",
    "    conn.set_session(autocommit=True)\n",
    "    return conn\n",
    "\n",
    "\n",
    "def supprimer_table(conn, sql_suppression_table):\n",
    "    try:\n",
    "        cursor = conn.cursor()\n",
    "        cursor.execute(sql_suppression_table)\n",
    "        conn.commit()\n",
    "    except psycopg2.Error as e:\n",
    "        print(\"Erreur lors de la suppression de la table\")\n",
    "        print(e)\n",
    "        return\n",
    "    cursor.close()\n",
    "    print(\"La table a été supprimée avec succès\")\n",
    "\n",
    "    \n",
    "def creer_table(conn, sql_creation_table):\n",
    "    try:\n",
    "        cursor = conn.cursor()\n",
    "        cursor.execute(sql_creation_table)\n",
    "        conn.commit()\n",
    "    except psycopg2.Error as e:\n",
    "        print(\"Erreur lors de la création de la table\")\n",
    "        print(e)\n",
    "        return\n",
    "    cursor.close()\n",
    "    print(\"La table a été crée avec succès\")\n",
    "\n",
    "    \n",
    "def inserer_donnees(conn, sql_insertion_table):\n",
    "    try:\n",
    "        cursor = conn.cursor()\n",
    "        cursor.execute(sql_insertion_table)\n",
    "        conn.commit()\n",
    "    except psycopg2.Error as e:\n",
    "        print(\"Erreur lors de l'insertion des données\")\n",
    "        print(e)\n",
    "        return\n",
    "    cursor.close()\n",
    "    print(\"Les données ont été insérées avec succès\")\n",
    "\n",
    "    \n",
    "def lire_donnees(conn, sql_requete):\n",
    "    try:\n",
    "        cursor = conn.cursor()\n",
    "        cursor.execute(sql_requete)\n",
    "        conn.commit()\n",
    "    except psycopg2.Error as e:\n",
    "        print(\"Erreur lors de la lecture des données\")\n",
    "        print(e)\n",
    "        return None\n",
    "    \n",
    "    print(\"Les données ont été lues avec succès\")\n",
    "    data = []\n",
    "    for row in cursor:\n",
    "        data.append(row)\n",
    "\n",
    "    cursor.close()\n",
    "    \n",
    "    return data\n",
    "\n",
    "def dataviz(conn, sql_dataviz):\n",
    "        try:\n",
    "            cursor = conn.cursor()\n",
    "            cursor.execute(sql_dataviz)\n",
    "            conn.commit()\n",
    "        except psycopg2.Error as e:\n",
    "            print(\"Erreur lors de la vizualisation des données\")\n",
    "            print(e)\n",
    "            return\n",
    "        \n",
    "        \n",
    "        ids = []\n",
    "        charges = []\n",
    "        for item in cursor:\n",
    "            ids.append(item[0])\n",
    "            charges.append(item[1])\n",
    "            \n",
    "        #print(charges)\n",
    "        #print(ids)\n",
    "        values = range(len(ids))\n",
    "        print(values)\n",
    "        \n",
    "        # Create the plot\n",
    "        plt.plot(values,charges,marker=\"o\")\n",
    "        plt.xlabel(\"X-Axis\")\n",
    "        plt.ylabel(\"Y-Axis\")\n",
    "        plt.title(\"Set X labels in Matplotlib Plot\")\n",
    "        plt.xticks(values,ids)\n",
    "        plt.show()\n",
    "\n",
    "        cursor.close()\n",
    "        \n",
    "        print(\"Les données ont été vizualisées avec succès\")\n"
   ]
  },
  {
   "cell_type": "markdown",
   "id": "found-corps",
   "metadata": {},
   "source": [
    "**Requêtes SQL pour la table user**"
   ]
  },
  {
   "cell_type": "code",
   "execution_count": 5,
   "id": "white-spencer",
   "metadata": {},
   "outputs": [],
   "source": [
    "sql_supprimer_table_user = \"\"\"\n",
    "    DROP TABLE IF EXISTS users;\n",
    "\"\"\"\n",
    "\n",
    "sql_creer_table_user = \"\"\"\n",
    "    CREATE TABLE IF NOT EXISTS users (\n",
    "    id integer primary key,\n",
    "    nom text,\n",
    "    prenom text,\n",
    "    role text,\n",
    "    equipe text,\n",
    "    admin int,\n",
    "    activtity text,\n",
    "    email text, \n",
    "    password text,\n",
    "    event_id int\n",
    "    );\n",
    "\"\"\"\n",
    "\n",
    "sql_inserer_user = \"\"\"\n",
    "    INSERT INTO users \n",
    "    (id, nom, prenom, role, equipe, admin, activity,\n",
    "    email, password, event_id)\n",
    "    VALUES (%s, %s, %s, %s, %s, %s, %s, %s, %s, %s);\n",
    "\"\"\"\n",
    "\n",
    "sql_inserer_user = \"\"\"\n",
    "    COPY users\n",
    "    (id, nom, prenom, role, equipe, admin, activity,\n",
    "    email, password, event_id)\n",
    "    FROM 'C:\\\\Users\\\\Public\\\\Documents\\\\acde_users.csv'\n",
    "    WITH CSV DELIMITER ','\n",
    "    QUOTE '\"'\n",
    "    HEADER;\n",
    "\"\"\"\n",
    "\n",
    "sql_inserer_user_dict = \"\"\"\n",
    "    INSERT INTO users \n",
    "    (id, nom, prenom, role, equipe, admin, activity,\n",
    "    email, password, event_id)\n",
    "    VALUES (%(id)s, %(nom)s, %(prenom)s, %(role)s, %(equipe)s, %(admin)s, %(activity)s,\n",
    "    %(email)s, %(password)s, %(event_id)s);\n",
    "\"\"\"\n",
    "\n",
    "sql_lire_user = \"\"\"\n",
    "    SELECT *\n",
    "    FROM users;\n",
    "\"\"\""
   ]
  },
  {
   "cell_type": "markdown",
   "id": "aggregate-scheme",
   "metadata": {},
   "source": [
    "**Requêtes SQL pour la table event**"
   ]
  },
  {
   "cell_type": "code",
   "execution_count": 6,
   "id": "centered-jefferson",
   "metadata": {},
   "outputs": [],
   "source": [
    "sql_supprimer_table_event = \"\"\"\n",
    "    DROP TABLE IF EXISTS event;\n",
    "\"\"\"\n",
    "\n",
    "sql_creer_table_event = \"\"\"\n",
    "    CREATE TABLE IF NOT EXISTS event (\n",
    "    id integer primary key,\n",
    "    user_id integer,\n",
    "    preparation decimal,\n",
    "    duration decimal,\n",
    "    charge integer,\n",
    "    modalities text,\n",
    "    need integer,\n",
    "    participants integer,\n",
    "    frequency integer,\n",
    "    proprietaire text,\n",
    "    date_first_event date,\n",
    "    date_last_event date\n",
    "    );\n",
    "\"\"\"\n",
    "\n",
    "sql_inserer_event = \"\"\"\n",
    "    INSERT INTO event \n",
    "    (id, user_id, preparation, duration, charge, modalities, need,\n",
    "    participants, frequency, proprietaire, date_first_event, date_last_event)\n",
    "    VALUES (%s, %s, %s, %s, %s, %s, %s, %s, %s, %s, %s, %s);\n",
    "\"\"\"\n",
    "\n",
    "sql_inserer_event = \"\"\"\n",
    "    COPY event \n",
    "    (id, user_id, preparation, duration, charge, modalities, need,\n",
    "    participants, frequency, proprietaire, date_first_event, date_last_event)\n",
    "    FROM 'C:\\\\Users\\\\Public\\\\Documents\\\\acde_manager2.csv'\n",
    "    WITH CSV DELIMITER ','\n",
    "    QUOTE '\"'\n",
    "    HEADER;\n",
    "\"\"\"\n",
    "\n",
    "sql_inserer_event_dict = \"\"\"\n",
    "    INSERT INTO event \n",
    "    (id, user_id, preparation, duration, charge, modalities, need,\n",
    "    participants, frequency, proprietaire, date_first_event, date_last_event)\n",
    "    VALUES (%(id)s, %(user_id)s, %(preparation)s, %(duration)s, %(charge)s, %(modalities)s, %(need)s,\n",
    "    %(particpants)s, %(frequency)s, %(proprietaire)s, %(date_first_event)s, %(date_last_event)s);\n",
    "\"\"\"\n",
    "\n",
    "sql_lire_event = \"\"\"\n",
    "    SELECT *\n",
    "    FROM event\n",
    "    LIMIT 10;\n",
    "\"\"\"\n",
    "\n",
    "sql_dataviz_event = \"\"\"\n",
    "    SELECT id, charge\n",
    "    FROM event\n",
    "    GROUP BY id\n",
    "    LIMIT 10;\n",
    "\"\"\"\n",
    "\n",
    "sql_dataviz_event_2 = \"\"\"\n",
    "    SELECT id, charge\n",
    "    FROM event\n",
    "    GROUP BY id\n",
    "    LIMIT 10 OFFSET 10;\n",
    "\"\"\""
   ]
  },
  {
   "cell_type": "markdown",
   "id": "orange-proceeding",
   "metadata": {},
   "source": [
    "**Requêtes SQL pour la table list_of_events**"
   ]
  },
  {
   "cell_type": "code",
   "execution_count": 7,
   "id": "educational-prophet",
   "metadata": {},
   "outputs": [],
   "source": [
    "sql_supprimer_table_list_of_events = \"\"\"\n",
    "    DROP TABLE IF EXISTS list_of_event;\n",
    "\"\"\"\n",
    "\n",
    "sql_creer_table_list_of_events = \"\"\"\n",
    "    CREATE TABLE IF NOT EXISTS list_of_event (\n",
    "    id integer primary key,\n",
    "    name_of_instance integer,\n",
    "    description text,\n",
    "    event_id integer\n",
    "    );\n",
    "\"\"\"\n",
    "\n",
    "sql_inserer_list_of_events = \"\"\"\n",
    "    INSERT INTO list_of_event \n",
    "    (id, name_of_instance, description, event_id)\n",
    "    VALUES (%s, %s, %s, %s);\n",
    "\"\"\"\n",
    "\n",
    "sql_inserer_list_of_events = \"\"\"\n",
    "    COPY list_of_event \n",
    "    id, name_of_instance, description, event_id)\n",
    "    FROM 'C:\\\\Users\\\\Public\\\\Documents\\\\acde_manager.csv'\n",
    "    WITH CSV DELIMITER ','\n",
    "    QUOTE '\"'\n",
    "    HEADER;\n",
    "\"\"\"\n",
    "\n",
    "sql_inserer_list_of_events_dict = \"\"\"\n",
    "    INSERT INTO list_of_event \n",
    "    (id, name_of_instance, description, event_id)\n",
    "    VALUES (%(id)s, %(name_of_instance)s, %(desc)s, %(event_id)s);\n",
    "\"\"\"\n",
    "\n",
    "sql_lire_list_of_events = \"\"\"\n",
    "    SELECT *\n",
    "    FROM list_of_event;\n",
    "\"\"\""
   ]
  },
  {
   "cell_type": "markdown",
   "id": "organic-calculation",
   "metadata": {},
   "source": [
    "**Requêtes SQL pour la table guest**"
   ]
  },
  {
   "cell_type": "code",
   "execution_count": 8,
   "id": "subsequent-banks",
   "metadata": {},
   "outputs": [],
   "source": [
    "sql_supprimer_table_guest = \"\"\"\n",
    "    DROP TABLE IF EXISTS guest;\n",
    "\"\"\"\n",
    "\n",
    "sql_creer_table_guest = \"\"\"\n",
    "    CREATE TABLE IF NOT EXISTS guest (\n",
    "    user_id integer,\n",
    "    event_id integer\n",
    "    );\n",
    "\"\"\"\n",
    "\n",
    "sql_inserer_guest = \"\"\"\n",
    "    INSERT INTO guest \n",
    "    (user_id, event_id)\n",
    "    VALUES (%s, %s);\n",
    "\"\"\"\n",
    "\n",
    "sql_inserer_guest = \"\"\"\n",
    "    COPY guest \n",
    "    (user_id, event_id)\n",
    "    FROM 'C:\\\\Users\\\\Public\\\\Documents\\\\acde_manager.csv'\n",
    "    WITH CSV DELIMITER ','\n",
    "    QUOTE '\"'\n",
    "    HEADER;\n",
    "\"\"\"\n",
    "\n",
    "sql_inserer_guest_dict = \"\"\"\n",
    "    INSERT INTO guest \n",
    "    (user_id, event_id)\n",
    "    VALUES (%(user_id)s, %(event_id)s);\n",
    "\"\"\"\n",
    "\n",
    "sql_lire_guest = \"\"\"\n",
    "    SELECT *\n",
    "    FROM guest\n",
    "    LIMIT 10;\n",
    "\"\"\""
   ]
  },
  {
   "cell_type": "markdown",
   "id": "difficult-momentum",
   "metadata": {},
   "source": [
    "**Requêtes SQL pour la table rights**"
   ]
  },
  {
   "cell_type": "code",
   "execution_count": 9,
   "id": "confirmed-steam",
   "metadata": {},
   "outputs": [],
   "source": [
    "sql_supprimer_table_rights = \"\"\"\n",
    "    DROP TABLE IF EXISTS rights;\n",
    "\"\"\"\n",
    "\n",
    "sql_creer_table_rights = \"\"\"\n",
    "    CREATE TABLE IF NOT EXISTS rights (\n",
    "    id integer primary key,\n",
    "    role integer,\n",
    "    user_id integer\n",
    "    );\n",
    "\"\"\"\n",
    "\n",
    "sql_inserer_rights = \"\"\"\n",
    "    INSERT INTO rights \n",
    "    (id, role, user_id)\n",
    "    VALUES (%s, %s, %s);\n",
    "\"\"\"\n",
    "\n",
    "sql_inserer_rights = \"\"\"\n",
    "    COPY rights \n",
    "    (id, role, user_id)\n",
    "    FROM 'C:\\\\Users\\\\Public\\\\Documents\\\\acde_manager.csv'\n",
    "    WITH CSV DELIMITER ','\n",
    "    QUOTE '\"'\n",
    "    HEADER;\n",
    "\"\"\"\n",
    "\n",
    "sql_inserer_rights_dict = \"\"\"\n",
    "    INSERT INTO rights \n",
    "    (id, role, user_id)\n",
    "    VALUES (%(id)s, %(role)s, %(user_id)s);\n",
    "\"\"\"\n",
    "\n",
    "sql_lire_rights = \"\"\"\n",
    "    SELECT *\n",
    "    FROM rights;\n",
    "\"\"\""
   ]
  },
  {
   "cell_type": "markdown",
   "id": "sharp-accident",
   "metadata": {},
   "source": [
    "**Parametres bdd**"
   ]
  },
  {
   "cell_type": "code",
   "execution_count": 10,
   "id": "inside-interaction",
   "metadata": {},
   "outputs": [],
   "source": [
    "ma_base_donnees = \"acde_manager\"\n",
    "utilisateur = \"postgres\"\n",
    "mot_passe = os.environ.get('pg_psw')"
   ]
  },
  {
   "cell_type": "markdown",
   "id": "opened-purchase",
   "metadata": {},
   "source": [
    "**Connect BDD**"
   ]
  },
  {
   "cell_type": "code",
   "execution_count": 11,
   "id": "welcome-expense",
   "metadata": {},
   "outputs": [
    {
     "data": {
      "text/plain": [
       "psycopg2.extensions.connection"
      ]
     },
     "execution_count": 11,
     "metadata": {},
     "output_type": "execute_result"
    }
   ],
   "source": [
    "conn = ouvrir_connection(ma_base_donnees, utilisateur, mot_passe)\n",
    "\n",
    "type(conn)"
   ]
  },
  {
   "cell_type": "markdown",
   "id": "hawaiian-helmet",
   "metadata": {},
   "source": [
    "**Create tables**"
   ]
  },
  {
   "cell_type": "code",
   "execution_count": 12,
   "id": "focal-strip",
   "metadata": {
    "tags": []
   },
   "outputs": [
    {
     "name": "stdout",
     "output_type": "stream",
     "text": [
      "La table a été crée avec succès\n"
     ]
    }
   ],
   "source": [
    "creer_table(conn, sql_creer_table_user)"
   ]
  },
  {
   "cell_type": "code",
   "execution_count": 13,
   "id": "foster-omega",
   "metadata": {},
   "outputs": [
    {
     "name": "stdout",
     "output_type": "stream",
     "text": [
      "La table a été crée avec succès\n"
     ]
    }
   ],
   "source": [
    "creer_table(conn, sql_creer_table_event)"
   ]
  },
  {
   "cell_type": "code",
   "execution_count": 14,
   "id": "structured-draft",
   "metadata": {},
   "outputs": [
    {
     "name": "stdout",
     "output_type": "stream",
     "text": [
      "La table a été crée avec succès\n"
     ]
    }
   ],
   "source": [
    "creer_table(conn, sql_creer_table_list_of_events)"
   ]
  },
  {
   "cell_type": "code",
   "execution_count": 15,
   "id": "theoretical-torture",
   "metadata": {},
   "outputs": [
    {
     "name": "stdout",
     "output_type": "stream",
     "text": [
      "La table a été crée avec succès\n"
     ]
    }
   ],
   "source": [
    "creer_table(conn, sql_creer_table_guest)"
   ]
  },
  {
   "cell_type": "code",
   "execution_count": 16,
   "id": "valid-breeding",
   "metadata": {},
   "outputs": [
    {
     "name": "stdout",
     "output_type": "stream",
     "text": [
      "La table a été crée avec succès\n"
     ]
    }
   ],
   "source": [
    "creer_table(conn, sql_creer_table_rights)"
   ]
  },
  {
   "cell_type": "markdown",
   "id": "progressive-pollution",
   "metadata": {},
   "source": [
    "**Import CSV**"
   ]
  },
  {
   "cell_type": "code",
   "execution_count": 17,
   "id": "arabic-dominican",
   "metadata": {},
   "outputs": [
    {
     "name": "stdout",
     "output_type": "stream",
     "text": [
      "Erreur lors de l'insertion des données\n",
      "ERREUR:  la colonne « activity » de la relation « users » n'existe pas\n",
      "\n"
     ]
    }
   ],
   "source": [
    "inserer_donnees(conn, sql_inserer_user)"
   ]
  },
  {
   "cell_type": "code",
   "execution_count": 18,
   "id": "excellent-career",
   "metadata": {},
   "outputs": [
    {
     "name": "stdout",
     "output_type": "stream",
     "text": [
      "Les données ont été insérées avec succès\n"
     ]
    }
   ],
   "source": [
    "inserer_donnees(conn, sql_inserer_event)"
   ]
  },
  {
   "cell_type": "code",
   "execution_count": null,
   "id": "viral-reaction",
   "metadata": {},
   "outputs": [],
   "source": [
    "inserer_donnees(conn, sql_inserer_list_of_events)"
   ]
  },
  {
   "cell_type": "code",
   "execution_count": null,
   "id": "crazy-payment",
   "metadata": {},
   "outputs": [],
   "source": [
    "inserer_donnees(conn, sql_inserer_guest)"
   ]
  },
  {
   "cell_type": "code",
   "execution_count": null,
   "id": "conceptual-principal",
   "metadata": {},
   "outputs": [],
   "source": [
    "inserer_donnees(conn, sql_inserer_rights)"
   ]
  },
  {
   "cell_type": "markdown",
   "id": "tribal-northeast",
   "metadata": {},
   "source": [
    "**Lecture data**"
   ]
  },
  {
   "cell_type": "code",
   "execution_count": null,
   "id": "supreme-procurement",
   "metadata": {},
   "outputs": [],
   "source": [
    "lire_donnees(conn, sql_lire_user)"
   ]
  },
  {
   "cell_type": "code",
   "execution_count": 19,
   "id": "portuguese-moldova",
   "metadata": {},
   "outputs": [
    {
     "name": "stdout",
     "output_type": "stream",
     "text": [
      "Les données ont été lues avec succès\n"
     ]
    },
    {
     "data": {
      "text/plain": [
       "[(1,\n",
       "  1,\n",
       "  Decimal('7'),\n",
       "  Decimal('9'),\n",
       "  13,\n",
       "  'SP',\n",
       "  1,\n",
       "  4,\n",
       "  1,\n",
       "  'Gr',\n",
       "  datetime.date(2019, 10, 28),\n",
       "  datetime.date(1902, 1, 14)),\n",
       " (2,\n",
       "  2,\n",
       "  Decimal('7'),\n",
       "  Decimal('3'),\n",
       "  10,\n",
       "  'Pp',\n",
       "  2,\n",
       "  8,\n",
       "  7,\n",
       "  'Ne',\n",
       "  datetime.date(1955, 3, 3),\n",
       "  datetime.date(1966, 4, 19)),\n",
       " (3,\n",
       "  3,\n",
       "  Decimal('3'),\n",
       "  Decimal('4'),\n",
       "  1,\n",
       "  'Zl',\n",
       "  1,\n",
       "  8,\n",
       "  7,\n",
       "  'cK',\n",
       "  datetime.date(2019, 7, 31),\n",
       "  datetime.date(2015, 12, 9)),\n",
       " (4,\n",
       "  4,\n",
       "  Decimal('6'),\n",
       "  Decimal('4'),\n",
       "  24,\n",
       "  'qp',\n",
       "  1,\n",
       "  4,\n",
       "  6,\n",
       "  'cM',\n",
       "  datetime.date(1961, 8, 31),\n",
       "  datetime.date(1998, 1, 2)),\n",
       " (5,\n",
       "  5,\n",
       "  Decimal('10'),\n",
       "  Decimal('6'),\n",
       "  17,\n",
       "  'No',\n",
       "  2,\n",
       "  6,\n",
       "  5,\n",
       "  ' S',\n",
       "  datetime.date(1999, 7, 18),\n",
       "  datetime.date(1990, 10, 26)),\n",
       " (6,\n",
       "  6,\n",
       "  Decimal('6'),\n",
       "  Decimal('1'),\n",
       "  21,\n",
       "  'SS',\n",
       "  2,\n",
       "  2,\n",
       "  7,\n",
       "  'vV',\n",
       "  datetime.date(1943, 12, 7),\n",
       "  datetime.date(2005, 5, 22)),\n",
       " (7,\n",
       "  7,\n",
       "  Decimal('7'),\n",
       "  Decimal('8'),\n",
       "  17,\n",
       "  'BR',\n",
       "  2,\n",
       "  6,\n",
       "  2,\n",
       "  'yc',\n",
       "  datetime.date(1936, 11, 16),\n",
       "  datetime.date(1990, 3, 8)),\n",
       " (8,\n",
       "  8,\n",
       "  Decimal('7'),\n",
       "  Decimal('3'),\n",
       "  21,\n",
       "  'vG',\n",
       "  2,\n",
       "  8,\n",
       "  6,\n",
       "  'VG',\n",
       "  datetime.date(1934, 5, 19),\n",
       "  datetime.date(1914, 3, 28)),\n",
       " (9,\n",
       "  9,\n",
       "  Decimal('5'),\n",
       "  Decimal('3'),\n",
       "  8,\n",
       "  'sL',\n",
       "  2,\n",
       "  5,\n",
       "  8,\n",
       "  'Ak',\n",
       "  datetime.date(1994, 1, 7),\n",
       "  datetime.date(1922, 1, 5)),\n",
       " (10,\n",
       "  10,\n",
       "  Decimal('3'),\n",
       "  Decimal('2'),\n",
       "  23,\n",
       "  'DT',\n",
       "  1,\n",
       "  8,\n",
       "  9,\n",
       "  'ik',\n",
       "  datetime.date(1941, 6, 16),\n",
       "  datetime.date(1937, 11, 24))]"
      ]
     },
     "execution_count": 19,
     "metadata": {},
     "output_type": "execute_result"
    }
   ],
   "source": [
    "lire_donnees(conn, sql_lire_event)"
   ]
  },
  {
   "cell_type": "code",
   "execution_count": null,
   "id": "inappropriate-notification",
   "metadata": {},
   "outputs": [],
   "source": [
    "lire_donnees(conn, sql_lire_list_of_events)"
   ]
  },
  {
   "cell_type": "code",
   "execution_count": null,
   "id": "typical-prayer",
   "metadata": {},
   "outputs": [],
   "source": [
    "lire_donnees(conn, sql_lire_guest)"
   ]
  },
  {
   "cell_type": "code",
   "execution_count": null,
   "id": "hydraulic-guyana",
   "metadata": {},
   "outputs": [],
   "source": [
    "lire_donnees(conn, sql_lire_rights)"
   ]
  },
  {
   "cell_type": "code",
   "execution_count": null,
   "id": "difficult-backing",
   "metadata": {},
   "outputs": [],
   "source": []
  },
  {
   "cell_type": "markdown",
   "id": "portable-sterling",
   "metadata": {},
   "source": [
    "**Delete tables**"
   ]
  },
  {
   "cell_type": "code",
   "execution_count": null,
   "id": "biblical-plate",
   "metadata": {},
   "outputs": [],
   "source": [
    "supprimer_table(conn, sql_supprimer_table_user)"
   ]
  },
  {
   "cell_type": "code",
   "execution_count": null,
   "id": "industrial-defensive",
   "metadata": {},
   "outputs": [],
   "source": [
    "supprimer_table(conn, sql_supprimer_table_event)"
   ]
  },
  {
   "cell_type": "code",
   "execution_count": null,
   "id": "complicated-bible",
   "metadata": {},
   "outputs": [],
   "source": [
    "supprimer_table(conn, sql_supprimer_table_list_of_events)"
   ]
  },
  {
   "cell_type": "code",
   "execution_count": null,
   "id": "legitimate-fifteen",
   "metadata": {},
   "outputs": [],
   "source": [
    "supprimer_table(conn, sql_supprimer_table_guest)"
   ]
  },
  {
   "cell_type": "code",
   "execution_count": null,
   "id": "hungry-binary",
   "metadata": {},
   "outputs": [],
   "source": [
    "supprimer_table(conn, sql_supprimer_table_rights)"
   ]
  },
  {
   "cell_type": "markdown",
   "id": "straight-excerpt",
   "metadata": {},
   "source": [
    "**matplotlib dataviz event**"
   ]
  },
  {
   "cell_type": "code",
   "execution_count": 20,
   "id": "sitting-finish",
   "metadata": {},
   "outputs": [
    {
     "name": "stdout",
     "output_type": "stream",
     "text": [
      "Les données ont été lues avec succès\n"
     ]
    },
    {
     "data": {
      "text/plain": [
       "[(1, 13),\n",
       " (2, 10),\n",
       " (3, 1),\n",
       " (4, 24),\n",
       " (5, 17),\n",
       " (6, 21),\n",
       " (7, 17),\n",
       " (8, 21),\n",
       " (9, 8),\n",
       " (10, 23)]"
      ]
     },
     "execution_count": 20,
     "metadata": {},
     "output_type": "execute_result"
    }
   ],
   "source": [
    "lire_donnees(conn, sql_dataviz_event)"
   ]
  },
  {
   "cell_type": "code",
   "execution_count": 21,
   "id": "wound-runner",
   "metadata": {},
   "outputs": [
    {
     "name": "stdout",
     "output_type": "stream",
     "text": [
      "range(0, 10)\n"
     ]
    },
    {
     "data": {
      "image/png": "[encoded data removed]",
      "text/plain": [
       "<Figure size 432x288 with 1 Axes>"
      ]
     },
     "metadata": {
      "needs_background": "light"
     },
     "output_type": "display_data"
    },
    {
     "name": "stdout",
     "output_type": "stream",
     "text": [
      "Les données ont été vizualisées avec succès\n"
     ]
    }
   ],
   "source": [
    "dataviz(conn, sql_dataviz_event)"
   ]
  },
  {
   "cell_type": "code",
   "execution_count": 22,
   "id": "polished-attempt",
   "metadata": {},
   "outputs": [
    {
     "name": "stdout",
     "output_type": "stream",
     "text": [
      "range(0, 10)\n"
     ]
    },
    {
     "data": {
      "image/png": "[encoded data removed]",
      "text/plain": [
       "<Figure size 432x288 with 1 Axes>"
      ]
     },
     "metadata": {
      "needs_background": "light"
     },
     "output_type": "display_data"
    },
    {
     "name": "stdout",
     "output_type": "stream",
     "text": [
      "Les données ont été vizualisées avec succès\n"
     ]
    }
   ],
   "source": [
    "dataviz(conn, sql_dataviz_event_2)"
   ]
  },
  {
   "cell_type": "code",
   "execution_count": null,
   "id": "welcome-chester",
   "metadata": {},
   "outputs": [],
   "source": []
  }
 ],
 "metadata": {
  "kernelspec": {
   "display_name": "Python 3",
   "language": "python",
   "name": "python3"
  },
  "language_info": {
   "codemirror_mode": {
    "name": "ipython",
    "version": 3
   },
   "file_extension": ".py",
   "mimetype": "text/x-python",
   "name": "python",
   "nbconvert_exporter": "python",
   "pygments_lexer": "ipython3",
   "version": "3.9.1"
  }
 },
 "nbformat": 4,
 "nbformat_minor": 5
}
