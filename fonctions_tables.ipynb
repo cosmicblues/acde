{
 "cells": [
  {
   "cell_type": "markdown",
   "id": "sublime-providence",
   "metadata": {},
   "source": [
    "**Imports**"
   ]
  },
  {
   "cell_type": "code",
   "execution_count": 5,
   "id": "plain-consent",
   "metadata": {},
   "outputs": [],
   "source": [
    "import os\n",
    "import psycopg2"
   ]
  },
  {
   "cell_type": "code",
   "execution_count": 6,
   "id": "protecting-extent",
   "metadata": {},
   "outputs": [
    {
     "name": "stdout",
     "output_type": "stream",
     "text": [
      "Th302k18\n"
     ]
    }
   ],
   "source": [
    "mot_passe = os.environ.get('pg_psw')\n",
    "\n",
    "print(mot_passe)"
   ]
  },
  {
   "cell_type": "markdown",
   "id": "suffering-coast",
   "metadata": {},
   "source": [
    "**Connection + création DB**"
   ]
  },
  {
   "cell_type": "code",
   "execution_count": 7,
   "id": "miniature-africa",
   "metadata": {},
   "outputs": [
    {
     "name": "stdout",
     "output_type": "stream",
     "text": [
      "Base de données créée avec succès !\n"
     ]
    }
   ],
   "source": [
    "conn = psycopg2.connect(\n",
    "   database=\"postgres\", user='postgres', password=mot_passe, host='localhost', port= '5432'\n",
    ")\n",
    "conn.autocommit = True\n",
    "\n",
    "cursor = conn.cursor()\n",
    "\n",
    "sql = '''CREATE database acde_manager''';\n",
    "\n",
    "cursor.execute(sql)\n",
    "print(\"Base de données créée avec succès !\")\n",
    "\n",
    "conn.close()"
   ]
  },
  {
   "cell_type": "markdown",
   "id": "characteristic-nation",
   "metadata": {},
   "source": [
    "**Fonctions génériques**"
   ]
  },
  {
   "cell_type": "code",
   "execution_count": 8,
   "id": "anticipated-mentor",
   "metadata": {},
   "outputs": [],
   "source": [
    "def ouvrir_connection(nom_bdd, utilisateur, mot_passe, host='localhost', port=5432):\n",
    "    try:\n",
    "        conn = psycopg2.connect(dbname=nom_bdd, user=utilisateur, password=mot_passe, host=host, port=5432)\n",
    "    except psycopg2.Error as e:\n",
    "        print(\"Erreur lors de la connection à la base de données\")\n",
    "        print(e)\n",
    "        return None\n",
    "    # On force autocommit (non applicable ds SQLite3)\n",
    "    conn.set_session(autocommit=True)\n",
    "    return conn\n",
    "\n",
    "\n",
    "def supprimer_table(conn, sql_suppression_table):\n",
    "    try:\n",
    "        cursor = conn.cursor()\n",
    "        cursor.execute(sql_suppression_table)\n",
    "        conn.commit()\n",
    "    except psycopg2.Error as e:\n",
    "        print(\"Erreur lors de la suppression de la table\")\n",
    "        print(e)\n",
    "        return\n",
    "    cursor.close()\n",
    "    print(\"La table a été supprimée avec succès\")\n",
    "\n",
    "    \n",
    "def creer_table(conn, sql_creation_table):\n",
    "    try:\n",
    "        cursor = conn.cursor()\n",
    "        cursor.execute(sql_creation_table)\n",
    "        conn.commit()\n",
    "    except psycopg2.Error as e:\n",
    "        print(\"Erreur lors de la création de la table\")\n",
    "        print(e)\n",
    "        return\n",
    "    cursor.close()\n",
    "    print(\"La table a été crée avec succès\")\n",
    "\n",
    "    \n",
    "def inserer_donnees(conn, sql_insertion_table):\n",
    "    try:\n",
    "        cursor = conn.cursor()\n",
    "        cursor.execute(sql_insertion_table)\n",
    "        conn.commit()\n",
    "    except psycopg2.Error as e:\n",
    "        print(\"Erreur lors de l'insertion des données\")\n",
    "        print(e)\n",
    "        return\n",
    "    cursor.close()\n",
    "    print(\"Les données ont été insérées avec succès\")\n",
    "\n",
    "    \n",
    "def lire_donnees(conn, sql_requete):\n",
    "    try:\n",
    "        cursor = conn.cursor()\n",
    "        cursor.execute(sql_requete)\n",
    "        conn.commit()\n",
    "    except psycopg2.Error as e:\n",
    "        print(\"Erreur lors de la lecture des données\")\n",
    "        print(e)\n",
    "        return None\n",
    "    \n",
    "    print(\"Les données ont été lues avec succès\")\n",
    "    data = []\n",
    "    for row in cursor:\n",
    "        data.append(row)\n",
    "\n",
    "    cursor.close()\n",
    "    \n",
    "    return data"
   ]
  },
  {
   "cell_type": "markdown",
   "id": "spoken-valuation",
   "metadata": {},
   "source": [
    "**Requêtes SQL pour la table user**"
   ]
  },
  {
   "cell_type": "code",
   "execution_count": 17,
   "id": "french-treaty",
   "metadata": {},
   "outputs": [],
   "source": [
    "sql_supprimer_table_user = \"\"\"\n",
    "    DROP TABLE IF EXISTS user;\n",
    "\"\"\"\n",
    "\n",
    "sql_creer_table_user = \"\"\"\n",
    "    CREATE TABLE IF NOT EXISTS manager (\n",
    "    id integer primary key,\n",
    "    nom text,\n",
    "    prenom text,\n",
    "    role text,\n",
    "    equipe text,\n",
    "    admin int,\n",
    "    activtity text,\n",
    "    email text, \n",
    "    password text,\n",
    "    event_id int\n",
    "    );\n",
    "\"\"\"\n",
    "\n",
    "sql_inserer_user = \"\"\"\n",
    "    INSERT INTO manager \n",
    "    (id, nom, prenom, role, equipe, admin, activity,\n",
    "    email, password, event_id)\n",
    "    VALUES (%s, %s, %s, %s, %s, %s, %s, %s, %s, %s);\n",
    "\"\"\"\n",
    "\n",
    "sql_inserer_user = \"\"\"\n",
    "    COPY manager \n",
    "    (id, nom, prenom, role, equipe, admin, activity,\n",
    "    email, password, event_id)\n",
    "    FROM 'C:\\\\Users\\\\Public\\\\Documents\\\\acde_manager.csv'\n",
    "    WITH CSV DELIMITER ','\n",
    "    QUOTE '\"'\n",
    "    HEADER;\n",
    "\"\"\"\n",
    "\n",
    "sql_inserer_user_dict = \"\"\"\n",
    "    INSERT INTO manager \n",
    "    (id, nom, prenom, role, equipe, admin, activity,\n",
    "    email, password, event_id)\n",
    "    VALUES (%(id)s, %(nom)s, %(prenom)s, %(role)s, %(equipe)s, %(admin)s, %(activity)s,\n",
    "    %(email)s, %(password)s, %(event_id)s);\n",
    "\"\"\"\n",
    "\n",
    "sql_lire_user = \"\"\"\n",
    "    SELECT *\n",
    "    FROM manager;\n",
    "\"\"\""
   ]
  },
  {
   "cell_type": "markdown",
   "id": "structured-provider",
   "metadata": {},
   "source": [
    "**Requêtes SQL pour la table event**"
   ]
  },
  {
   "cell_type": "code",
   "execution_count": 18,
   "id": "environmental-first",
   "metadata": {},
   "outputs": [],
   "source": [
    "sql_supprimer_table_event = \"\"\"\n",
    "    DROP TABLE IF EXISTS event;\n",
    "\"\"\"\n",
    "\n",
    "sql_creer_table_event = \"\"\"\n",
    "    CREATE TABLE IF NOT EXISTS event (\n",
    "    id integer primary key,\n",
    "    user_id integer,\n",
    "    preparation decimal,\n",
    "    duration decimal,\n",
    "    charge integer,\n",
    "    modalities text,\n",
    "    need integer,\n",
    "    participants integer,\n",
    "    frequency integer,\n",
    "    proprietaire text,\n",
    "    date_first_event date,\n",
    "    date_last_event date\n",
    "    );\n",
    "\"\"\"\n",
    "\n",
    "sql_inserer_event = \"\"\"\n",
    "    INSERT INTO event \n",
    "    (id, user_id, preparation, duration, charge, modalities, need,\n",
    "    participants, frequency, proprietaire, date_first_event, date_last_event)\n",
    "    VALUES (%s, %s, %s, %s, %s, %s, %s, %s, %s, %s, %s, %s);\n",
    "\"\"\"\n",
    "\n",
    "sql_inserer_event = \"\"\"\n",
    "    COPY event \n",
    "    (id, user_id, preparation, duration, charge, modalities, need,\n",
    "    participants, frequency, proprietaire, date_first_event, date_last_event)\n",
    "    FROM 'C:\\\\Users\\\\Public\\\\Documents\\\\acde_manager.csv'\n",
    "    WITH CSV DELIMITER ','\n",
    "    QUOTE '\"'\n",
    "    HEADER;\n",
    "\"\"\"\n",
    "\n",
    "sql_inserer_event_dict = \"\"\"\n",
    "    INSERT INTO event \n",
    "    (id, user_id, preparation, duration, charge, modalities, need,\n",
    "    participants, frequency, proprietaire, date_first_event, date_last_event)\n",
    "    VALUES (%(id)s, %(user_id)s, %(preparation)s, %(duration)s, %(charge)s, %(modalities)s, %(need)s,\n",
    "    %(particpants)s, %(frequency)s, %(proprietaire)s, %(date_first_event)s, %(date_last_event)s);\n",
    "\"\"\"\n",
    "\n",
    "sql_lire_event = \"\"\"\n",
    "    SELECT *\n",
    "    FROM event;\n",
    "\"\"\""
   ]
  },
  {
   "cell_type": "markdown",
   "id": "hawaiian-homeless",
   "metadata": {},
   "source": [
    "**Requêtes SQL pour la table list_of_events**"
   ]
  },
  {
   "cell_type": "code",
   "execution_count": 26,
   "id": "altered-ideal",
   "metadata": {},
   "outputs": [],
   "source": [
    "sql_supprimer_table_list_of_events = \"\"\"\n",
    "    DROP TABLE IF EXISTS list_of_event;\n",
    "\"\"\"\n",
    "\n",
    "sql_creer_table_list_of_events = \"\"\"\n",
    "    CREATE TABLE IF NOT EXISTS list_of_event (\n",
    "    id integer primary key,\n",
    "    name_of_instance integer,\n",
    "    description text,\n",
    "    event_id integer\n",
    "    );\n",
    "\"\"\"\n",
    "\n",
    "sql_inserer_list_of_events = \"\"\"\n",
    "    INSERT INTO list_of_event \n",
    "    (id, name_of_instance, description, event_id)\n",
    "    VALUES (%s, %s, %s, %s);\n",
    "\"\"\"\n",
    "\n",
    "sql_inserer_list_of_events = \"\"\"\n",
    "    COPY list_of_event \n",
    "    id, name_of_instance, description, event_id)\n",
    "    FROM 'C:\\\\Users\\\\Public\\\\Documents\\\\acde_manager.csv'\n",
    "    WITH CSV DELIMITER ','\n",
    "    QUOTE '\"'\n",
    "    HEADER;\n",
    "\"\"\"\n",
    "\n",
    "sql_inserer_list_of_events_dict = \"\"\"\n",
    "    INSERT INTO list_of_event \n",
    "    (id, name_of_instance, description, event_id)\n",
    "    VALUES (%(id)s, %(name_of_instance)s, %(desc)s, %(event_id)s);\n",
    "\"\"\"\n",
    "\n",
    "sql_lire_list_of_events = \"\"\"\n",
    "    SELECT *\n",
    "    FROM list_of_event;\n",
    "\"\"\""
   ]
  },
  {
   "cell_type": "markdown",
   "id": "negative-jimmy",
   "metadata": {},
   "source": [
    "**Requêtes SQL pour la table guest**"
   ]
  },
  {
   "cell_type": "code",
   "execution_count": 20,
   "id": "colored-tobacco",
   "metadata": {},
   "outputs": [],
   "source": [
    "sql_supprimer_table_guest = \"\"\"\n",
    "    DROP TABLE IF EXISTS guest;\n",
    "\"\"\"\n",
    "\n",
    "sql_creer_table_guest = \"\"\"\n",
    "    CREATE TABLE IF NOT EXISTS guest (\n",
    "    user_id integer,\n",
    "    event_id integer\n",
    "    );\n",
    "\"\"\"\n",
    "\n",
    "sql_inserer_guest = \"\"\"\n",
    "    INSERT INTO guest \n",
    "    (user_id, event_id)\n",
    "    VALUES (%s, %s);\n",
    "\"\"\"\n",
    "\n",
    "sql_inserer_guest = \"\"\"\n",
    "    COPY guest \n",
    "    (user_id, event_id)\n",
    "    FROM 'C:\\\\Users\\\\Public\\\\Documents\\\\acde_manager.csv'\n",
    "    WITH CSV DELIMITER ','\n",
    "    QUOTE '\"'\n",
    "    HEADER;\n",
    "\"\"\"\n",
    "\n",
    "sql_inserer_guest_dict = \"\"\"\n",
    "    INSERT INTO guest \n",
    "    (user_id, event_id)\n",
    "    VALUES (%(user_id)s, %(event_id)s);\n",
    "\"\"\"\n",
    "\n",
    "sql_lire_guest = \"\"\"\n",
    "    SELECT *\n",
    "    FROM guest;\n",
    "\"\"\""
   ]
  },
  {
   "cell_type": "markdown",
   "id": "fifteen-parks",
   "metadata": {},
   "source": [
    "**Requêtes SQL pour la table rights**"
   ]
  },
  {
   "cell_type": "code",
   "execution_count": 21,
   "id": "mobile-final",
   "metadata": {},
   "outputs": [],
   "source": [
    "sql_supprimer_table_rights = \"\"\"\n",
    "    DROP TABLE IF EXISTS rights;\n",
    "\"\"\"\n",
    "\n",
    "sql_creer_table_rights = \"\"\"\n",
    "    CREATE TABLE IF NOT EXISTS rights (\n",
    "    id integer primary key,\n",
    "    role integer,\n",
    "    user_id integer\n",
    "    );\n",
    "\"\"\"\n",
    "\n",
    "sql_inserer_rights = \"\"\"\n",
    "    INSERT INTO rights \n",
    "    (id, role, user_id)\n",
    "    VALUES (%s, %s, %s);\n",
    "\"\"\"\n",
    "\n",
    "sql_inserer_rights = \"\"\"\n",
    "    COPY rights \n",
    "    (id, role, user_id)\n",
    "    FROM 'C:\\\\Users\\\\Public\\\\Documents\\\\acde_manager.csv'\n",
    "    WITH CSV DELIMITER ','\n",
    "    QUOTE '\"'\n",
    "    HEADER;\n",
    "\"\"\"\n",
    "\n",
    "sql_inserer_rights_dict = \"\"\"\n",
    "    INSERT INTO rights \n",
    "    (id, role, user_id)\n",
    "    VALUES (%(id)s, %(role)s, %(user_id)s);\n",
    "\"\"\"\n",
    "\n",
    "sql_lire_rights = \"\"\"\n",
    "    SELECT *\n",
    "    FROM rights;\n",
    "\"\"\""
   ]
  },
  {
   "cell_type": "markdown",
   "id": "legitimate-department",
   "metadata": {},
   "source": [
    "**Parametres bdd**"
   ]
  },
  {
   "cell_type": "code",
   "execution_count": 14,
   "id": "noted-longer",
   "metadata": {},
   "outputs": [],
   "source": [
    "ma_base_donnees = \"acde_manager\"\n",
    "utilisateur = \"postgres\"\n",
    "mot_passe = os.environ.get('pg_psw')"
   ]
  },
  {
   "cell_type": "markdown",
   "id": "acquired-brazilian",
   "metadata": {},
   "source": [
    "**Connect BDD**"
   ]
  },
  {
   "cell_type": "code",
   "execution_count": 15,
   "id": "compact-actor",
   "metadata": {},
   "outputs": [
    {
     "data": {
      "text/plain": [
       "psycopg2.extensions.connection"
      ]
     },
     "execution_count": 15,
     "metadata": {},
     "output_type": "execute_result"
    }
   ],
   "source": [
    "conn = ouvrir_connection(ma_base_donnees, utilisateur, mot_passe)\n",
    "\n",
    "type(conn)"
   ]
  },
  {
   "cell_type": "markdown",
   "id": "lonely-service",
   "metadata": {},
   "source": [
    "**Create tables**"
   ]
  },
  {
   "cell_type": "code",
   "execution_count": 22,
   "id": "relevant-incentive",
   "metadata": {
    "tags": []
   },
   "outputs": [
    {
     "name": "stdout",
     "output_type": "stream",
     "text": [
      "La table a été crée avec succès\n"
     ]
    }
   ],
   "source": [
    "creer_table(conn, sql_creer_table_user)"
   ]
  },
  {
   "cell_type": "code",
   "execution_count": 23,
   "id": "creative-question",
   "metadata": {},
   "outputs": [
    {
     "name": "stdout",
     "output_type": "stream",
     "text": [
      "La table a été crée avec succès\n"
     ]
    }
   ],
   "source": [
    "creer_table(conn, sql_creer_table_event)"
   ]
  },
  {
   "cell_type": "code",
   "execution_count": 27,
   "id": "decent-impact",
   "metadata": {},
   "outputs": [
    {
     "name": "stdout",
     "output_type": "stream",
     "text": [
      "La table a été crée avec succès\n"
     ]
    }
   ],
   "source": [
    "creer_table(conn, sql_creer_table_list_of_events)"
   ]
  },
  {
   "cell_type": "code",
   "execution_count": 28,
   "id": "protecting-jewelry",
   "metadata": {},
   "outputs": [
    {
     "name": "stdout",
     "output_type": "stream",
     "text": [
      "La table a été crée avec succès\n"
     ]
    }
   ],
   "source": [
    "creer_table(conn, sql_creer_table_guest)"
   ]
  },
  {
   "cell_type": "code",
   "execution_count": 29,
   "id": "japanese-rescue",
   "metadata": {},
   "outputs": [
    {
     "name": "stdout",
     "output_type": "stream",
     "text": [
      "La table a été crée avec succès\n"
     ]
    }
   ],
   "source": [
    "creer_table(conn, sql_creer_table_rights)"
   ]
  },
  {
   "cell_type": "markdown",
   "id": "stupid-stick",
   "metadata": {},
   "source": [
    "**Import CSV**"
   ]
  },
  {
   "cell_type": "code",
   "execution_count": 42,
   "id": "sized-appeal",
   "metadata": {},
   "outputs": [
    {
     "name": "stdout",
     "output_type": "stream",
     "text": [
      "Erreur lors de l'insertion des données\n",
      "ERREUR:  séquence d'octets invalide pour l'encodage « UTF8 » : 0xe9 0x6e 0x6f\n",
      "CONTEXT:  COPY manager, ligne 2\n",
      "\n"
     ]
    }
   ],
   "source": [
    "inserer_donnees(conn, sql_inserer_user)"
   ]
  },
  {
   "cell_type": "code",
   "execution_count": null,
   "id": "loaded-study",
   "metadata": {},
   "outputs": [],
   "source": [
    "inserer_donnees(conn, sql_inserer_event)"
   ]
  },
  {
   "cell_type": "code",
   "execution_count": null,
   "id": "thrown-seeking",
   "metadata": {},
   "outputs": [],
   "source": [
    "inserer_donnees(conn, sql_inserer_list_of_events)"
   ]
  },
  {
   "cell_type": "code",
   "execution_count": null,
   "id": "beginning-bread",
   "metadata": {},
   "outputs": [],
   "source": [
    "inserer_donnees(conn, sql_inserer_guest)"
   ]
  },
  {
   "cell_type": "code",
   "execution_count": null,
   "id": "ruled-folks",
   "metadata": {},
   "outputs": [],
   "source": [
    "inserer_donnees(conn, sql_inserer_rights)"
   ]
  },
  {
   "cell_type": "markdown",
   "id": "prompt-killer",
   "metadata": {},
   "source": [
    "**Lecture data**"
   ]
  },
  {
   "cell_type": "code",
   "execution_count": 41,
   "id": "separate-youth",
   "metadata": {},
   "outputs": [
    {
     "name": "stdout",
     "output_type": "stream",
     "text": [
      "Les données ont été lues avec succès\n"
     ]
    },
    {
     "data": {
      "text/plain": [
       "[]"
      ]
     },
     "execution_count": 41,
     "metadata": {},
     "output_type": "execute_result"
    }
   ],
   "source": [
    "lire_donnees(conn, sql_lire_user)"
   ]
  },
  {
   "cell_type": "code",
   "execution_count": null,
   "id": "current-consideration",
   "metadata": {},
   "outputs": [],
   "source": [
    "lire_donnees(conn, sql_lire_event)"
   ]
  },
  {
   "cell_type": "code",
   "execution_count": null,
   "id": "loose-adventure",
   "metadata": {},
   "outputs": [],
   "source": [
    "lire_donnees(conn, sql_lire_list_of_events)"
   ]
  },
  {
   "cell_type": "code",
   "execution_count": null,
   "id": "exempt-threat",
   "metadata": {},
   "outputs": [],
   "source": [
    "lire_donnees(conn, sql_lire_guest)"
   ]
  },
  {
   "cell_type": "code",
   "execution_count": null,
   "id": "funny-europe",
   "metadata": {},
   "outputs": [],
   "source": [
    "lire_donnees(conn, sql_lire_rights)"
   ]
  },
  {
   "cell_type": "markdown",
   "id": "overall-tension",
   "metadata": {},
   "source": [
    "**Delete tables**"
   ]
  },
  {
   "cell_type": "code",
   "execution_count": null,
   "id": "ordered-preservation",
   "metadata": {},
   "outputs": [],
   "source": [
    "supprimer_table(conn, sql_supprimer_table_user)"
   ]
  },
  {
   "cell_type": "code",
   "execution_count": null,
   "id": "acute-approach",
   "metadata": {},
   "outputs": [],
   "source": [
    "supprimer_table(conn, sql_supprimer_table_event)"
   ]
  },
  {
   "cell_type": "code",
   "execution_count": null,
   "id": "english-founder",
   "metadata": {},
   "outputs": [],
   "source": [
    "supprimer_table(conn, sql_supprimer_table_list_of_events)"
   ]
  },
  {
   "cell_type": "code",
   "execution_count": null,
   "id": "proof-thread",
   "metadata": {},
   "outputs": [],
   "source": [
    "supprimer_table(conn, sql_supprimer_table_guest)"
   ]
  },
  {
   "cell_type": "code",
   "execution_count": null,
   "id": "declared-nomination",
   "metadata": {},
   "outputs": [],
   "source": [
    "supprimer_table(conn, sql_supprimer_table_rights)"
   ]
  }
 ],
 "metadata": {
  "kernelspec": {
   "display_name": "Python 3",
   "language": "python",
   "name": "python3"
  },
  "language_info": {
   "codemirror_mode": {
    "name": "ipython",
    "version": 3
   },
   "file_extension": ".py",
   "mimetype": "text/x-python",
   "name": "python",
   "nbconvert_exporter": "python",
   "pygments_lexer": "ipython3",
   "version": "3.9.1"
  }
 },
 "nbformat": 4,
 "nbformat_minor": 5
}
